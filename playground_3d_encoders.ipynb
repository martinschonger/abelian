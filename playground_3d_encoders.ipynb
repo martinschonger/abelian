{
 "cells": [
  {
   "cell_type": "code",
   "execution_count": 2,
   "metadata": {},
   "outputs": [],
   "source": [
    "%load_ext autoreload\n",
    "%autoreload 2\n",
    "\n",
    "from math import sqrt\n",
    "import numpy as np\n",
    "\n",
    "import os\n",
    "import sys\n",
    "module_path = os.path.abspath(os.path.join('/workspaces/pose'))\n",
    "if module_path not in sys.path:\n",
    "    sys.path.insert(0, '/workspaces/pose')\n",
    "\n",
    "from pose import abelian_utils, fourier_utils3, hex_utils"
   ]
  },
  {
   "cell_type": "code",
   "execution_count": 154,
   "metadata": {},
   "outputs": [],
   "source": [
    "generators = np.array([[1, 0.5, 0], [0, sqrt(3)/2, 0], [0, 0, 1]])\n",
    "n = 4\n",
    "variance = 0.03\n",
    "fourier_coef_shape = (n, n, n)\n",
    "bf3 = abelian_utils.BumpFunction(np.array([0.0, 0.0, 0.0]), variance, generators, n)"
   ]
  },
  {
   "cell_type": "code",
   "execution_count": null,
   "metadata": {},
   "outputs": [],
   "source": [
    "coef3 = bf3.get_values_dual_unshuffled().reshape(fourier_coef_shape)\n",
    "coef3_cropped = abelian_utils.crop_conjugate_symmetry(coef3, fourier_coef_shape)\n",
    "coef3_flat = abelian_utils.flatten_coefs(coef3_cropped)\n",
    "# coef3_final = np.delete(coef3_flat, 1, 0)"
   ]
  },
  {
   "cell_type": "code",
   "execution_count": 155,
   "metadata": {},
   "outputs": [],
   "source": [
    "def get_0_coefs(n, variance):\n",
    "    generators = np.array([[1, 0.5, 0], [0, sqrt(3)/2, 0], [0, 0, 1]])\n",
    "    fourier_coef_shape = (n, n, n)\n",
    "    bf3 = abelian_utils.BumpFunction(np.array([0.0, 0.0, 0.0]), variance, generators, n)\n",
    "\n",
    "    coef3 = bf3.get_values_dual_unshuffled().reshape(fourier_coef_shape)\n",
    "    coef3_cropped = abelian_utils.crop_conjugate_symmetry(coef3, fourier_coef_shape)\n",
    "    coef3_flat = abelian_utils.flatten_coefs(coef3_cropped)\n",
    "    # coef3_final = np.delete(coef3_flat, 1, 0)\n",
    "    \n",
    "    return coef3_flat"
   ]
  },
  {
   "cell_type": "code",
   "execution_count": 156,
   "metadata": {},
   "outputs": [],
   "source": [
    "def get_encoders(neuron_shape, fourier_coef_shape, n, variance):\n",
    "    dim = 2 * (fourier_coef_shape[0] * fourier_coef_shape[1] * (fourier_coef_shape[2]//2+1) - 1)  # constant and purely real first coefficient (imaginary part of first coefficient is always 0)\n",
    "\n",
    "    res_u, res_v, res_w = neuron_shape\n",
    "\n",
    "    gauss0_f_cropped_flat = get_0_coefs(n, variance)\n",
    "\n",
    "    encoders = np.zeros((res_u*res_v*res_w, dim))\n",
    "    for mu in range(res_u):\n",
    "        for mv in range(res_v):\n",
    "            for mw in range(res_w):\n",
    "                # assign encoders from (0,0,0) to (1,1,1) in row-major order (C-style)\n",
    "                # center = np.array([u[mu, mv, mw], v[mu, mv, mw], w[mu, mv, mw]]) - np.array([0.5, np.sqrt(3)/4, 0.5])\n",
    "                center = np.array([mu, mv, mw]) / np.array(neuron_shape)\n",
    "                rot_mat = fourier_utils3._rot_mat_complete(fourier_coef_shape, center)\n",
    "                coefs_cropped_flat = rot_mat.dot(gauss0_f_cropped_flat)\n",
    "                encoders[mu*res_v*res_w+mv*res_w+mw, :] = coefs_cropped_flat[2:]\n",
    "    \n",
    "    return encoders"
   ]
  },
  {
   "cell_type": "code",
   "execution_count": 157,
   "metadata": {},
   "outputs": [
    {
     "data": {
      "text/plain": [
       "(512, 94)"
      ]
     },
     "execution_count": 157,
     "metadata": {},
     "output_type": "execute_result"
    }
   ],
   "source": [
    "res_u = 8\n",
    "res_v = 8\n",
    "res_w = 8\n",
    "neuron_shape = (res_u, res_v, res_w)\n",
    "encoders = get_encoders(neuron_shape, fourier_coef_shape, n, variance)\n",
    "encoders.shape"
   ]
  },
  {
   "cell_type": "code",
   "execution_count": 90,
   "metadata": {},
   "outputs": [
    {
     "data": {
      "text/plain": [
       "(64, 3)"
      ]
     },
     "execution_count": 90,
     "metadata": {},
     "output_type": "execute_result"
    }
   ],
   "source": [
    "res3 = abelian_utils.unshuffle(bf3.func_ps.domain, bf3.coords_primal, n, 3)*n"
   ]
  },
  {
   "cell_type": "code",
   "execution_count": 74,
   "metadata": {},
   "outputs": [],
   "source": [
    "def get_3d_coordinates_unwrapped(neuron_shape, generators):\n",
    "    res = np.zeros((*neuron_shape, 3))\n",
    "\n",
    "    for u in range(neuron_shape[0]):\n",
    "        for v in range(neuron_shape[1]):\n",
    "            for w in range(neuron_shape[2]):\n",
    "                res[u,v,w] = generators.dot(np.array([u, v, w]))\n",
    "\n",
    "    return res"
   ]
  },
  {
   "cell_type": "code",
   "execution_count": 75,
   "metadata": {},
   "outputs": [],
   "source": [
    "res4 = get_3d_coordinates_unwrapped(fourier_coef_shape, generators).reshape((-1,3))"
   ]
  },
  {
   "cell_type": "code",
   "execution_count": 89,
   "metadata": {},
   "outputs": [
    {
     "data": {
      "text/plain": [
       "True"
      ]
     },
     "execution_count": 89,
     "metadata": {},
     "output_type": "execute_result"
    }
   ],
   "source": [
    "np.array_equal(res3, res4)"
   ]
  },
  {
   "cell_type": "code",
   "execution_count": 80,
   "metadata": {},
   "outputs": [
    {
     "data": {
      "text/plain": [
       "array([[[[0.        , 0.        , 0.        ],\n",
       "         [0.        , 0.        , 1.        ],\n",
       "         [0.        , 0.        , 2.        ],\n",
       "         [0.        , 0.        , 3.        ]],\n",
       "\n",
       "        [[0.5       , 0.8660254 , 0.        ],\n",
       "         [0.5       , 0.8660254 , 1.        ],\n",
       "         [0.5       , 0.8660254 , 2.        ],\n",
       "         [0.5       , 0.8660254 , 3.        ]],\n",
       "\n",
       "        [[0.        , 1.73205081, 0.        ],\n",
       "         [0.        , 1.73205081, 1.        ],\n",
       "         [0.        , 1.73205081, 2.        ],\n",
       "         [0.        , 1.73205081, 3.        ]],\n",
       "\n",
       "        [[0.5       , 2.59807621, 0.        ],\n",
       "         [0.5       , 2.59807621, 1.        ],\n",
       "         [0.5       , 2.59807621, 2.        ],\n",
       "         [0.5       , 2.59807621, 3.        ]]],\n",
       "\n",
       "\n",
       "       [[[1.        , 0.        , 0.        ],\n",
       "         [1.        , 0.        , 1.        ],\n",
       "         [1.        , 0.        , 2.        ],\n",
       "         [1.        , 0.        , 3.        ]],\n",
       "\n",
       "        [[1.5       , 0.8660254 , 0.        ],\n",
       "         [1.5       , 0.8660254 , 1.        ],\n",
       "         [1.5       , 0.8660254 , 2.        ],\n",
       "         [1.5       , 0.8660254 , 3.        ]],\n",
       "\n",
       "        [[1.        , 1.73205081, 0.        ],\n",
       "         [1.        , 1.73205081, 1.        ],\n",
       "         [1.        , 1.73205081, 2.        ],\n",
       "         [1.        , 1.73205081, 3.        ]],\n",
       "\n",
       "        [[1.5       , 2.59807621, 0.        ],\n",
       "         [1.5       , 2.59807621, 1.        ],\n",
       "         [1.5       , 2.59807621, 2.        ],\n",
       "         [1.5       , 2.59807621, 3.        ]]],\n",
       "\n",
       "\n",
       "       [[[2.        , 0.        , 0.        ],\n",
       "         [2.        , 0.        , 1.        ],\n",
       "         [2.        , 0.        , 2.        ],\n",
       "         [2.        , 0.        , 3.        ]],\n",
       "\n",
       "        [[2.5       , 0.8660254 , 0.        ],\n",
       "         [2.5       , 0.8660254 , 1.        ],\n",
       "         [2.5       , 0.8660254 , 2.        ],\n",
       "         [2.5       , 0.8660254 , 3.        ]],\n",
       "\n",
       "        [[2.        , 1.73205081, 0.        ],\n",
       "         [2.        , 1.73205081, 1.        ],\n",
       "         [2.        , 1.73205081, 2.        ],\n",
       "         [2.        , 1.73205081, 3.        ]],\n",
       "\n",
       "        [[2.5       , 2.59807621, 0.        ],\n",
       "         [2.5       , 2.59807621, 1.        ],\n",
       "         [2.5       , 2.59807621, 2.        ],\n",
       "         [2.5       , 2.59807621, 3.        ]]],\n",
       "\n",
       "\n",
       "       [[[3.        , 0.        , 0.        ],\n",
       "         [3.        , 0.        , 1.        ],\n",
       "         [3.        , 0.        , 2.        ],\n",
       "         [3.        , 0.        , 3.        ]],\n",
       "\n",
       "        [[3.5       , 0.8660254 , 0.        ],\n",
       "         [3.5       , 0.8660254 , 1.        ],\n",
       "         [3.5       , 0.8660254 , 2.        ],\n",
       "         [3.5       , 0.8660254 , 3.        ]],\n",
       "\n",
       "        [[3.        , 1.73205081, 0.        ],\n",
       "         [3.        , 1.73205081, 1.        ],\n",
       "         [3.        , 1.73205081, 2.        ],\n",
       "         [3.        , 1.73205081, 3.        ]],\n",
       "\n",
       "        [[3.5       , 2.59807621, 0.        ],\n",
       "         [3.5       , 2.59807621, 1.        ],\n",
       "         [3.5       , 2.59807621, 2.        ],\n",
       "         [3.5       , 2.59807621, 3.        ]]]])"
      ]
     },
     "execution_count": 80,
     "metadata": {},
     "output_type": "execute_result"
    }
   ],
   "source": [
    "u,v,w = hex_utils.get_3d_coordinates(n,n,n)\n",
    "positions = np.vstack([u.ravel(), v.ravel(), w.ravel()]).transpose().reshape(n,n,n,3)\n",
    "positions*n"
   ]
  },
  {
   "cell_type": "code",
   "execution_count": 101,
   "metadata": {},
   "outputs": [],
   "source": [
    "def unwrap_3d_coordinates(wrapped_coords, neuron_shape):\n",
    "    res = np.zeros((*neuron_shape, 3))\n",
    "\n",
    "    for u in range(neuron_shape[0]):\n",
    "        for v in range(neuron_shape[1]):\n",
    "            for w in range(neuron_shape[2]):\n",
    "                u_corrected = u\n",
    "                if v > 1:\n",
    "                    u_corrected = (u+(v//2)) % neuron_shape[0]  # // is crucial\n",
    "                res[u,v,w] = wrapped_coords[u_corrected, v, w]\n",
    "                if v > 1 and u_corrected < (u+(v//2)):\n",
    "                    res[u,v,w] += np.array([1.0, 0, 0])\n",
    "\n",
    "    return res"
   ]
  },
  {
   "cell_type": "code",
   "execution_count": 144,
   "metadata": {},
   "outputs": [],
   "source": [
    "def unwrap_single(wrapped, neuron_shape, d):\n",
    "    if d == 1:\n",
    "        res = np.zeros(neuron_shape)\n",
    "    else:\n",
    "        res = np.zeros((*neuron_shape, d))\n",
    "\n",
    "    for u in range(neuron_shape[0]):\n",
    "        for v in range(neuron_shape[1]):\n",
    "            for w in range(neuron_shape[2]):\n",
    "                u_corrected = u\n",
    "                if v > 1:\n",
    "                    u_corrected = (u+(v//2)) % neuron_shape[0]\n",
    "                res[u,v,w] = wrapped[u_corrected, v, w]\n",
    "\n",
    "    return res"
   ]
  },
  {
   "cell_type": "code",
   "execution_count": 145,
   "metadata": {},
   "outputs": [],
   "source": [
    "def unwrap_multi(wrapped, neuron_shape, d):\n",
    "    if d == 1:\n",
    "        res = np.zeros((*neuron_shape, *neuron_shape))\n",
    "    else:\n",
    "        res = np.zeros((*neuron_shape, *neuron_shape, d))\n",
    "\n",
    "    for u in range(neuron_shape[0]):\n",
    "        for v in range(neuron_shape[1]):\n",
    "            for w in range(neuron_shape[2]):\n",
    "                u_corrected = u\n",
    "                if v > 1:\n",
    "                    u_corrected = (u+(v//2)) % neuron_shape[0]\n",
    "                res[u,v,w] = unwrap_single(wrapped[u_corrected, v, w], neuron_shape, d)\n",
    "\n",
    "    return res"
   ]
  },
  {
   "cell_type": "code",
   "execution_count": 102,
   "metadata": {},
   "outputs": [],
   "source": [
    "res5 = (unwrap_3d_coordinates(positions, fourier_coef_shape)*n).reshape((-1,3))"
   ]
  },
  {
   "cell_type": "code",
   "execution_count": 109,
   "metadata": {},
   "outputs": [
    {
     "data": {
      "text/plain": [
       "True"
      ]
     },
     "execution_count": 109,
     "metadata": {},
     "output_type": "execute_result"
    }
   ],
   "source": [
    "np.allclose(res3, res5, rtol=1e-16, atol=1e-16)"
   ]
  },
  {
   "cell_type": "code",
   "execution_count": 119,
   "metadata": {},
   "outputs": [],
   "source": [
    "u1, v1, w1 = hex_utils.get_3d_distances(*fourier_coef_shape)\n",
    "res6 = np.vstack([u1.ravel(), v1.ravel(), w1.ravel()]).transpose().reshape(n*n,n*n,n*n,3)"
   ]
  },
  {
   "cell_type": "code",
   "execution_count": 120,
   "metadata": {},
   "outputs": [
    {
     "data": {
      "text/plain": [
       "(16, 16, 16, 3)"
      ]
     },
     "execution_count": 120,
     "metadata": {},
     "output_type": "execute_result"
    }
   ],
   "source": [
    "res6.shape"
   ]
  },
  {
   "cell_type": "code",
   "execution_count": 128,
   "metadata": {},
   "outputs": [],
   "source": [
    "res7 = np.stack([u1, v1, w1], axis=-1).reshape(n,n,n,n,n,n,3)"
   ]
  },
  {
   "cell_type": "code",
   "execution_count": 129,
   "metadata": {},
   "outputs": [],
   "source": [
    "res8 = unwrap_multi(res7, fourier_coef_shape)"
   ]
  },
  {
   "cell_type": "code",
   "execution_count": 133,
   "metadata": {},
   "outputs": [
    {
     "data": {
      "text/plain": [
       "array([[[ 0.        ,  0.        ,  0.        ],\n",
       "        [ 0.125     ,  0.21650635,  0.        ],\n",
       "        [-0.25      , -0.4330127 ,  0.        ],\n",
       "        [-0.125     , -0.21650635,  0.        ]],\n",
       "\n",
       "       [[ 0.25      ,  0.        ,  0.        ],\n",
       "        [ 0.375     ,  0.21650635,  0.        ],\n",
       "        [ 0.        , -0.4330127 ,  0.        ],\n",
       "        [ 0.125     , -0.21650635,  0.        ]],\n",
       "\n",
       "       [[ 0.5       ,  0.        ,  0.        ],\n",
       "        [-0.375     ,  0.21650635,  0.        ],\n",
       "        [ 0.25      , -0.4330127 ,  0.        ],\n",
       "        [ 0.375     , -0.21650635,  0.        ]],\n",
       "\n",
       "       [[-0.25      ,  0.        ,  0.        ],\n",
       "        [-0.125     ,  0.21650635,  0.        ],\n",
       "        [ 0.        ,  0.4330127 ,  0.        ],\n",
       "        [-0.375     , -0.21650635,  0.        ]]])"
      ]
     },
     "execution_count": 133,
     "metadata": {},
     "output_type": "execute_result"
    }
   ],
   "source": [
    "res8[0,0,0,:,:,0]"
   ]
  },
  {
   "cell_type": "code",
   "execution_count": 146,
   "metadata": {},
   "outputs": [],
   "source": [
    "mat_weights = hex_utils.create_rec_con_weights_hex(*fourier_coef_shape)\n",
    "res9 = mat_weights.reshape(n,n,n,n,n,n)"
   ]
  },
  {
   "cell_type": "code",
   "execution_count": 147,
   "metadata": {},
   "outputs": [],
   "source": [
    "res10 = unwrap_multi(res9, fourier_coef_shape, 1)"
   ]
  },
  {
   "cell_type": "code",
   "execution_count": 151,
   "metadata": {},
   "outputs": [
    {
     "data": {
      "text/plain": [
       "array([[1.32790009, 0.75093614, 0.1073035 , 0.75093614],\n",
       "       [0.75093614, 0.22061896, 0.22061896, 0.75093614],\n",
       "       [0.1073035 , 0.22061896, 0.1073035 , 0.22061896],\n",
       "       [0.75093614, 0.75093614, 0.22061896, 0.22061896]])"
      ]
     },
     "execution_count": 151,
     "metadata": {},
     "output_type": "execute_result"
    }
   ],
   "source": [
    "res10[0,0,0,:,:,0]"
   ]
  },
  {
   "cell_type": "code",
   "execution_count": null,
   "metadata": {},
   "outputs": [],
   "source": []
  },
  {
   "cell_type": "code",
   "execution_count": null,
   "metadata": {},
   "outputs": [],
   "source": [
    "# stuff:"
   ]
  },
  {
   "cell_type": "code",
   "execution_count": 38,
   "metadata": {},
   "outputs": [
    {
     "data": {
      "text/plain": [
       "array([[1, 1, 1],\n",
       "       [2, 2, 2],\n",
       "       [3, 3, 3]])"
      ]
     },
     "execution_count": 38,
     "metadata": {},
     "output_type": "execute_result"
    }
   ],
   "source": [
    "tmp1 = np.repeat(np.array([1,2,3]).reshape(-1,1), 3, axis=1)\n",
    "tmp1"
   ]
  },
  {
   "cell_type": "code",
   "execution_count": 39,
   "metadata": {},
   "outputs": [
    {
     "data": {
      "text/plain": [
       "array([[1, 2, 3],\n",
       "       [1, 2, 3],\n",
       "       [1, 2, 3]])"
      ]
     },
     "execution_count": 39,
     "metadata": {},
     "output_type": "execute_result"
    }
   ],
   "source": [
    "tmp2 = np.repeat(np.array([1,2,3]).reshape(1,-1), 3, axis=0)\n",
    "tmp2"
   ]
  },
  {
   "cell_type": "code",
   "execution_count": 40,
   "metadata": {},
   "outputs": [
    {
     "data": {
      "text/plain": [
       "array([[1, 2, 3],\n",
       "       [2, 4, 6],\n",
       "       [3, 6, 9]])"
      ]
     },
     "execution_count": 40,
     "metadata": {},
     "output_type": "execute_result"
    }
   ],
   "source": [
    "tmp1 * tmp2"
   ]
  },
  {
   "cell_type": "code",
   "execution_count": 37,
   "metadata": {},
   "outputs": [
    {
     "data": {
      "text/plain": [
       "array([[1, 0, 0],\n",
       "       [0, 2, 0],\n",
       "       [0, 0, 3]])"
      ]
     },
     "execution_count": 37,
     "metadata": {},
     "output_type": "execute_result"
    }
   ],
   "source": [
    "cov = np.diag([1,2,3])\n",
    "cov"
   ]
  },
  {
   "cell_type": "code",
   "execution_count": 41,
   "metadata": {},
   "outputs": [
    {
     "data": {
      "text/plain": [
       "array([[ 1,  0,  0],\n",
       "       [ 0,  8,  0],\n",
       "       [ 0,  0, 27]])"
      ]
     },
     "execution_count": 41,
     "metadata": {},
     "output_type": "execute_result"
    }
   ],
   "source": [
    "cov * tmp1 * tmp2"
   ]
  },
  {
   "cell_type": "code",
   "execution_count": 43,
   "metadata": {},
   "outputs": [
    {
     "data": {
      "text/plain": [
       "array([1., 2., 1.])"
      ]
     },
     "execution_count": 43,
     "metadata": {},
     "output_type": "execute_result"
    }
   ],
   "source": [
    "np.array([1,4,3])/np.array([1,2,3])"
   ]
  },
  {
   "cell_type": "code",
   "execution_count": null,
   "metadata": {},
   "outputs": [],
   "source": []
  }
 ],
 "metadata": {
  "interpreter": {
   "hash": "949777d72b0d2535278d3dc13498b2535136f6dfe0678499012e853ee9abcab1"
  },
  "kernelspec": {
   "display_name": "Python 3.10.0 64-bit",
   "language": "python",
   "name": "python3"
  },
  "language_info": {
   "codemirror_mode": {
    "name": "ipython",
    "version": 3
   },
   "file_extension": ".py",
   "mimetype": "text/x-python",
   "name": "python",
   "nbconvert_exporter": "python",
   "pygments_lexer": "ipython3",
   "version": "3.10.0"
  },
  "orig_nbformat": 4
 },
 "nbformat": 4,
 "nbformat_minor": 2
}
