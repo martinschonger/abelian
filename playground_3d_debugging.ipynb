{
 "cells": [
  {
   "cell_type": "code",
   "execution_count": 4,
   "metadata": {},
   "outputs": [
    {
     "name": "stdout",
     "output_type": "stream",
     "text": [
      "The autoreload extension is already loaded. To reload it, use:\n",
      "  %reload_ext autoreload\n"
     ]
    }
   ],
   "source": [
    "%load_ext autoreload\n",
    "%autoreload 2\n",
    "\n",
    "from math import sqrt\n",
    "import matplotlib.pyplot as plt\n",
    "import numpy as np\n",
    "from scipy.stats import multivariate_normal\n",
    "\n",
    "import os\n",
    "import sys\n",
    "module_path = os.path.abspath(os.path.join('/workspaces/pose'))\n",
    "if module_path not in sys.path:\n",
    "    sys.path.insert(0, '/workspaces/pose')\n",
    "\n",
    "from pose import abelian_utils, fourier_utils3, hex_utils"
   ]
  },
  {
   "cell_type": "code",
   "execution_count": 46,
   "metadata": {},
   "outputs": [],
   "source": [
    "mean = np.array([0, 0, 0])\n",
    "# mean = np.array([0.338, 0.334, 0.123])\n",
    "fourier_coef_shape = (4, 4, 4)\n",
    "# cov = 0.06 * np.eye(3)\n",
    "cov = 0.03 * np.eye(3)\n",
    "generators = np.array([[1, 0.5, 0], [0, sqrt(3)/2, 0], [0, 0, 1]])\n",
    "# generators = np.array([[1.5, 0.5, 0], [0, sqrt(3)/2, 0], [0, 0, 1.8]])\n",
    "generators = generators / np.array(fourier_coef_shape)  # -> domain = np.array([1,sqrt(3)/2,1])\n",
    "bf = abelian_utils.BumpFunction(mean, cov, generators, fourier_coef_shape)"
   ]
  },
  {
   "cell_type": "code",
   "execution_count": 47,
   "metadata": {},
   "outputs": [],
   "source": [
    "baseline_bump = bf.get_values_primal_unshuffled().reshape(*fourier_coef_shape)"
   ]
  },
  {
   "cell_type": "code",
   "execution_count": 22,
   "metadata": {},
   "outputs": [
    {
     "name": "stderr",
     "output_type": "stream",
     "text": [
      "/workspaces/pose/pose/abelian_utils.py:269: ComplexWarning: Casting complex values to real discards the imaginary part\n",
      "  self._values_reconstructed[idx] = value  # imaginary part is discarded -> no issue since the reconstruced function values are purely real\n"
     ]
    }
   ],
   "source": [
    "baseline_bump_reconstructed = abelian_utils.unshuffle(bf.func_reconstructed.domain, bf.values_reconstructed, fourier_coef_shape, 1).reshape(*fourier_coef_shape)"
   ]
  },
  {
   "cell_type": "code",
   "execution_count": 23,
   "metadata": {},
   "outputs": [
    {
     "data": {
      "text/plain": [
       "True"
      ]
     },
     "execution_count": 23,
     "metadata": {},
     "output_type": "execute_result"
    }
   ],
   "source": [
    "np.allclose(baseline_bump, baseline_bump_reconstructed, rtol=1e-15, atol=1e-15)"
   ]
  },
  {
   "cell_type": "code",
   "execution_count": null,
   "metadata": {},
   "outputs": [],
   "source": [
    "zero_coefs = abelian_utils.get_0_coefs(fourier_coef_shape, cov, generators)"
   ]
  },
  {
   "cell_type": "code",
   "execution_count": 178,
   "metadata": {},
   "outputs": [],
   "source": [
    "center = np.array([0.338, 0.334, 0.123])\n",
    "rot_mat = fourier_utils3._rot_mat_complete(fourier_coef_shape, center)\n",
    "coefs_cropped_flat = rot_mat.dot(zero_coefs)\n",
    "coefs_cropped = abelian_utils.unflatten_coefs(coefs_cropped_flat, fourier_coef_shape)\n",
    "coefs_cropped = coefs_cropped.reshape(fourier_coef_shape[0], fourier_coef_shape[1], fourier_coef_shape[2]//2+1)\n",
    "coefs_appended = abelian_utils.append_conjugate_symmetry(coefs_cropped, fourier_coef_shape)\n",
    "coefs = coefs_appended.reshape(fourier_coef_shape)"
   ]
  },
  {
   "cell_type": "code",
   "execution_count": 193,
   "metadata": {},
   "outputs": [
    {
     "data": {
      "text/plain": [
       "array([[ 1.        ,  0.        ,  0.        ,  0.        ,  0.        ,\n",
       "         0.        ,  0.        ,  0.        ],\n",
       "       [-0.        ,  1.        ,  0.        ,  0.        ,  0.        ,\n",
       "         0.        ,  0.        ,  0.        ],\n",
       "       [ 0.        ,  0.        ,  0.71593648,  0.69816542,  0.        ,\n",
       "         0.        ,  0.        ,  0.        ],\n",
       "       [ 0.        ,  0.        , -0.69816542,  0.71593648,  0.        ,\n",
       "         0.        ,  0.        ,  0.        ],\n",
       "       [ 0.        ,  0.        ,  0.        ,  0.        ,  0.0251301 ,\n",
       "         0.99968419,  0.        ,  0.        ],\n",
       "       [ 0.        ,  0.        ,  0.        ,  0.        , -0.99968419,\n",
       "         0.0251301 ,  0.        ,  0.        ],\n",
       "       [ 0.        ,  0.        ,  0.        ,  0.        ,  0.        ,\n",
       "         0.        , -0.75288828,  0.65814834],\n",
       "       [ 0.        ,  0.        ,  0.        ,  0.        ,  0.        ,\n",
       "         0.        , -0.65814834, -0.75288828]])"
      ]
     },
     "execution_count": 193,
     "metadata": {},
     "output_type": "execute_result"
    }
   ],
   "source": [
    "rot_mat[:8,:8]"
   ]
  },
  {
   "cell_type": "code",
   "execution_count": 179,
   "metadata": {},
   "outputs": [],
   "source": [
    "baseline_coefs = bf.get_values_dual_unshuffled().reshape(*fourier_coef_shape)"
   ]
  },
  {
   "cell_type": "code",
   "execution_count": 180,
   "metadata": {},
   "outputs": [
    {
     "data": {
      "text/plain": [
       "False"
      ]
     },
     "execution_count": 180,
     "metadata": {},
     "output_type": "execute_result"
    }
   ],
   "source": [
    "np.allclose(baseline_coefs, coefs, rtol=1e-4, atol=1e-4)"
   ]
  },
  {
   "cell_type": "code",
   "execution_count": 190,
   "metadata": {},
   "outputs": [
    {
     "data": {
      "text/plain": [
       "array([ 0.,  1., -2., -1.])"
      ]
     },
     "execution_count": 190,
     "metadata": {},
     "output_type": "execute_result"
    }
   ],
   "source": [
    "np.fft.fftfreq(fourier_coef_shape[2], 0.25)"
   ]
  },
  {
   "cell_type": "code",
   "execution_count": 48,
   "metadata": {},
   "outputs": [
    {
     "data": {
      "text/plain": [
       "array([[[1.22193616e+01, 4.31283417e+00, 3.78894342e-01, 4.31283417e+00],\n",
       "        [4.31286531e+00, 1.52222952e+00, 1.33732049e-01, 1.52222952e+00],\n",
       "        [3.78985329e-01, 1.33763197e-01, 1.17514648e-02, 1.33763197e-01],\n",
       "        [4.31286531e+00, 1.52222952e+00, 1.33732049e-01, 1.52222952e+00]],\n",
       "\n",
       "       [[4.31286531e+00, 1.52222952e+00, 1.33732049e-01, 1.52222952e+00],\n",
       "        [5.53528606e-01, 1.95368397e-01, 1.71636510e-02, 1.95368397e-01],\n",
       "        [5.53528606e-01, 1.95368397e-01, 1.71636510e-02, 1.95368397e-01],\n",
       "        [4.31286531e+00, 1.52222952e+00, 1.33732049e-01, 1.52222952e+00]],\n",
       "\n",
       "       [[3.78985329e-01, 1.33763197e-01, 1.17514648e-02, 1.33763197e-01],\n",
       "        [5.53528606e-01, 1.95368397e-01, 1.71636510e-02, 1.95368397e-01],\n",
       "        [3.78985329e-01, 1.33763197e-01, 1.17514648e-02, 1.33763197e-01],\n",
       "        [5.53528606e-01, 1.95368397e-01, 1.71636510e-02, 1.95368397e-01]],\n",
       "\n",
       "       [[4.31286531e+00, 1.52222952e+00, 1.33732049e-01, 1.52222952e+00],\n",
       "        [4.31286531e+00, 1.52222952e+00, 1.33732049e-01, 1.52222952e+00],\n",
       "        [5.53528606e-01, 1.95368397e-01, 1.71636510e-02, 1.95368397e-01],\n",
       "        [5.53528606e-01, 1.95368397e-01, 1.71636510e-02, 1.95368397e-01]]])"
      ]
     },
     "execution_count": 48,
     "metadata": {},
     "output_type": "execute_result"
    }
   ],
   "source": [
    "baseline_bump"
   ]
  },
  {
   "cell_type": "code",
   "execution_count": 49,
   "metadata": {},
   "outputs": [
    {
     "data": {
      "text/plain": [
       "<matplotlib.colorbar.Colorbar at 0x7f4c0bfd4340>"
      ]
     },
     "execution_count": 49,
     "metadata": {},
     "output_type": "execute_result"
    },
    {
     "data": {
      "image/png": "[encoded data removed]",
      "text/plain": [
       "<Figure size 432x288 with 2 Axes>"
      ]
     },
     "metadata": {
      "needs_background": "light"
     },
     "output_type": "display_data"
    }
   ],
   "source": [
    "plt.scatter(XXX[:,:,0], YYY[:,:,0], c=baseline_bump[:,:,0])\n",
    "plt.colorbar()"
   ]
  },
  {
   "cell_type": "code",
   "execution_count": 86,
   "metadata": {},
   "outputs": [
    {
     "data": {
      "text/plain": [
       "array([[[1.22193559e+01, 4.31179625e+00, 1.89447105e-01, 4.31179625e+00],\n",
       "        [4.31179625e+00, 1.52148665e+00, 6.68494577e-02, 1.52148665e+00],\n",
       "        [1.89447105e-01, 6.68494577e-02, 2.93716019e-03, 6.68494577e-02],\n",
       "        [4.31179625e+00, 1.52148665e+00, 6.68494577e-02, 1.52148665e+00]],\n",
       "\n",
       "       [[4.31179625e+00, 1.52148665e+00, 6.68494577e-02, 1.52148665e+00],\n",
       "        [5.36881031e-01, 1.89447105e-01, 8.32372490e-03, 1.89447105e-01],\n",
       "        [5.36881031e-01, 1.89447105e-01, 8.32372490e-03, 1.89447105e-01],\n",
       "        [4.31179625e+00, 1.52148665e+00, 6.68494577e-02, 1.52148665e+00]],\n",
       "\n",
       "       [[1.89447105e-01, 6.68494577e-02, 2.93716019e-03, 6.68494577e-02],\n",
       "        [5.36881031e-01, 1.89447105e-01, 8.32372490e-03, 1.89447105e-01],\n",
       "        [1.89447105e-01, 6.68494577e-02, 2.93716019e-03, 6.68494577e-02],\n",
       "        [5.36881031e-01, 1.89447105e-01, 8.32372490e-03, 1.89447105e-01]],\n",
       "\n",
       "       [[4.31179625e+00, 1.52148665e+00, 6.68494577e-02, 1.52148665e+00],\n",
       "        [4.31179625e+00, 1.52148665e+00, 6.68494577e-02, 1.52148665e+00],\n",
       "        [5.36881031e-01, 1.89447105e-01, 8.32372490e-03, 1.89447105e-01],\n",
       "        [5.36881031e-01, 1.89447105e-01, 8.32372490e-03, 1.89447105e-01]]])"
      ]
     },
     "execution_count": 86,
     "metadata": {},
     "output_type": "execute_result"
    }
   ],
   "source": [
    "u_diff, v_diff, w_diff = hex_utils.get_3d_distances(*fourier_coef_shape)\n",
    "pos = np.stack((u_diff[0], v_diff[0], w_diff[0]), axis=-1)\n",
    "Z = multivariate_normal.pdf(x=pos, mean=np.zeros(3), cov=cov).reshape(fourier_coef_shape)\n",
    "Z = abelian_utils.unwrap_single(Z, fourier_coef_shape, 1)\n",
    "Z  # confirmed correct with MATLAB"
   ]
  },
  {
   "cell_type": "code",
   "execution_count": 74,
   "metadata": {},
   "outputs": [],
   "source": [
    "u_diff_unwrapped = abelian_utils.unwrap_multi(u_diff.reshape((*fourier_coef_shape, *fourier_coef_shape)), fourier_coef_shape, 1).reshape((np.prod(fourier_coef_shape), np.prod(fourier_coef_shape)))\n",
    "v_diff_unwrapped = abelian_utils.unwrap_multi(v_diff.reshape((*fourier_coef_shape, *fourier_coef_shape)), fourier_coef_shape, 1).reshape((np.prod(fourier_coef_shape), np.prod(fourier_coef_shape)))\n",
    "w_diff_unwrapped = abelian_utils.unwrap_multi(w_diff.reshape((*fourier_coef_shape, *fourier_coef_shape)), fourier_coef_shape, 1).reshape((np.prod(fourier_coef_shape), np.prod(fourier_coef_shape)))"
   ]
  },
  {
   "cell_type": "code",
   "execution_count": 81,
   "metadata": {},
   "outputs": [
    {
     "data": {
      "text/plain": [
       "(64, 3)"
      ]
     },
     "execution_count": 81,
     "metadata": {},
     "output_type": "execute_result"
    }
   ],
   "source": [
    "pos_unwrapped = np.stack((u_diff_unwrapped[0], v_diff_unwrapped[0], w_diff_unwrapped[0]), axis=-1)\n",
    "pos_unwrapped.shape"
   ]
  },
  {
   "cell_type": "code",
   "execution_count": 95,
   "metadata": {},
   "outputs": [
    {
     "data": {
      "text/plain": [
       "array([[[ 0.  ,  0.25,  0.5 , -0.25],\n",
       "        [ 0.  ,  0.25,  0.5 , -0.25],\n",
       "        [ 0.  ,  0.25,  0.5 , -0.25],\n",
       "        [ 0.  ,  0.25,  0.5 , -0.25]],\n",
       "\n",
       "       [[ 0.  ,  0.25,  0.5 , -0.25],\n",
       "        [ 0.  ,  0.25,  0.5 , -0.25],\n",
       "        [ 0.  ,  0.25,  0.5 , -0.25],\n",
       "        [ 0.  ,  0.25,  0.5 , -0.25]],\n",
       "\n",
       "       [[ 0.  ,  0.25,  0.5 , -0.25],\n",
       "        [ 0.  ,  0.25,  0.5 , -0.25],\n",
       "        [ 0.  ,  0.25,  0.5 , -0.25],\n",
       "        [ 0.  ,  0.25,  0.5 , -0.25]],\n",
       "\n",
       "       [[ 0.  ,  0.25,  0.5 , -0.25],\n",
       "        [ 0.  ,  0.25,  0.5 , -0.25],\n",
       "        [ 0.  ,  0.25,  0.5 , -0.25],\n",
       "        [ 0.  ,  0.25,  0.5 , -0.25]]])"
      ]
     },
     "execution_count": 95,
     "metadata": {},
     "output_type": "execute_result"
    }
   ],
   "source": [
    "abelian_utils.unwrap_multi(w_diff.reshape((*fourier_coef_shape, *fourier_coef_shape)), fourier_coef_shape, 1)[0,0,0]"
   ]
  },
  {
   "cell_type": "code",
   "execution_count": 83,
   "metadata": {},
   "outputs": [
    {
     "data": {
      "text/plain": [
       "True"
      ]
     },
     "execution_count": 83,
     "metadata": {},
     "output_type": "execute_result"
    }
   ],
   "source": [
    "np.allclose(abelian_utils.unwrap_single(pos.reshape((*fourier_coef_shape, 3)), fourier_coef_shape, 3).reshape((-1,3)), pos_unwrapped, rtol=1e-15, atol=1e-15)"
   ]
  },
  {
   "cell_type": "code",
   "execution_count": 85,
   "metadata": {},
   "outputs": [],
   "source": [
    "from scipy.io import savemat\n",
    "savemat(\"3d_distances.mat\", {'pos': pos, 'pos_unwrapped': pos_unwrapped, 'Z': Z})"
   ]
  },
  {
   "cell_type": "code",
   "execution_count": 53,
   "metadata": {},
   "outputs": [
    {
     "data": {
      "text/plain": [
       "array([[[ 0.   ,  0.   ,  0.   ,  0.   ],\n",
       "        [ 0.125,  0.125,  0.125,  0.125],\n",
       "        [ 0.   ,  0.   ,  0.   ,  0.   ],\n",
       "        [-0.375, -0.375, -0.375, -0.375]],\n",
       "\n",
       "       [[ 0.25 ,  0.25 ,  0.25 ,  0.25 ],\n",
       "        [ 0.375,  0.375,  0.375,  0.375],\n",
       "        [-0.25 , -0.25 , -0.25 , -0.25 ],\n",
       "        [-0.125, -0.125, -0.125, -0.125]],\n",
       "\n",
       "       [[ 0.5  ,  0.5  ,  0.5  ,  0.5  ],\n",
       "        [-0.375, -0.375, -0.375, -0.375],\n",
       "        [ 0.   ,  0.   ,  0.   ,  0.   ],\n",
       "        [ 0.125,  0.125,  0.125,  0.125]],\n",
       "\n",
       "       [[-0.25 , -0.25 , -0.25 , -0.25 ],\n",
       "        [-0.125, -0.125, -0.125, -0.125],\n",
       "        [ 0.25 ,  0.25 ,  0.25 ,  0.25 ],\n",
       "        [ 0.375,  0.375,  0.375,  0.375]]])"
      ]
     },
     "execution_count": 53,
     "metadata": {},
     "output_type": "execute_result"
    }
   ],
   "source": [
    "u_diff[0].reshape(fourier_coef_shape)"
   ]
  },
  {
   "cell_type": "code",
   "execution_count": 51,
   "metadata": {},
   "outputs": [
    {
     "data": {
      "text/plain": [
       "<matplotlib.colorbar.Colorbar at 0x7f4c0be801f0>"
      ]
     },
     "execution_count": 51,
     "metadata": {},
     "output_type": "execute_result"
    },
    {
     "data": {
      "image/png": "[encoded data removed]",
      "text/plain": [
       "<Figure size 432x288 with 2 Axes>"
      ]
     },
     "metadata": {
      "needs_background": "light"
     },
     "output_type": "display_data"
    }
   ],
   "source": [
    "plt.scatter(XXX[:,:,0], YYY[:,:,0], c=Z[:,:,0])\n",
    "plt.colorbar()"
   ]
  },
  {
   "cell_type": "code",
   "execution_count": 4,
   "metadata": {},
   "outputs": [
    {
     "ename": "NameError",
     "evalue": "name 'zero_coefs' is not defined",
     "output_type": "error",
     "traceback": [
      "\u001b[0;31m---------------------------------------------------------------------------\u001b[0m",
      "\u001b[0;31mNameError\u001b[0m                                 Traceback (most recent call last)",
      "\u001b[0;32m/tmp/ipykernel_532882/2920617618.py\u001b[0m in \u001b[0;36m<module>\u001b[0;34m\u001b[0m\n\u001b[1;32m      1\u001b[0m \u001b[0;31m# fourier_coef_shape = (5, 4, 4)\u001b[0m\u001b[0;34m\u001b[0m\u001b[0;34m\u001b[0m\u001b[0m\n\u001b[0;32m----> 2\u001b[0;31m \u001b[0mabelian_utils\u001b[0m\u001b[0;34m.\u001b[0m\u001b[0munflatten_coefs\u001b[0m\u001b[0;34m(\u001b[0m\u001b[0mzero_coefs\u001b[0m\u001b[0;34m,\u001b[0m \u001b[0mfourier_coef_shape\u001b[0m\u001b[0;34m)\u001b[0m\u001b[0;34m.\u001b[0m\u001b[0mreshape\u001b[0m\u001b[0;34m(\u001b[0m\u001b[0;34m(\u001b[0m\u001b[0mfourier_coef_shape\u001b[0m\u001b[0;34m[\u001b[0m\u001b[0;36m0\u001b[0m\u001b[0;34m]\u001b[0m\u001b[0;34m,\u001b[0m \u001b[0mfourier_coef_shape\u001b[0m\u001b[0;34m[\u001b[0m\u001b[0;36m1\u001b[0m\u001b[0;34m]\u001b[0m\u001b[0;34m,\u001b[0m \u001b[0mfourier_coef_shape\u001b[0m\u001b[0;34m[\u001b[0m\u001b[0;36m2\u001b[0m\u001b[0;34m]\u001b[0m\u001b[0;34m//\u001b[0m\u001b[0;36m2\u001b[0m\u001b[0;34m+\u001b[0m\u001b[0;36m1\u001b[0m\u001b[0;34m)\u001b[0m\u001b[0;34m)\u001b[0m\u001b[0;34m\u001b[0m\u001b[0;34m\u001b[0m\u001b[0m\n\u001b[0m",
      "\u001b[0;31mNameError\u001b[0m: name 'zero_coefs' is not defined"
     ]
    }
   ],
   "source": [
    "# fourier_coef_shape = (5, 4, 4)\n",
    "abelian_utils.unflatten_coefs(zero_coefs, fourier_coef_shape).reshape((fourier_coef_shape[0], fourier_coef_shape[1], fourier_coef_shape[2]//2+1))"
   ]
  },
  {
   "cell_type": "code",
   "execution_count": 201,
   "metadata": {},
   "outputs": [
    {
     "data": {
      "text/plain": [
       "array([[[1.00000000e+00+0.00000000e+00j, 3.05944212e-01+1.86872126e-17j,\n",
       "         8.78479206e-03+9.02192924e-18j],\n",
       "        [2.06152992e-01-1.58435639e-14j, 6.30713147e-02-4.83616842e-15j,\n",
       "         1.81101117e-03-1.33883378e-16j],\n",
       "        [1.80684231e-03-1.18447310e-14j, 5.52792945e-04-3.62605370e-15j,\n",
       "         1.58727340e-05-1.08537812e-16j],\n",
       "        [1.80684231e-03+1.18447310e-14j, 5.52792945e-04+3.63958423e-15j,\n",
       "         1.58727340e-05+1.21346638e-16j],\n",
       "        [2.06152992e-01+1.58435639e-14j, 6.30713147e-02+4.84532062e-15j,\n",
       "         1.81101117e-03+1.35091967e-16j]],\n",
       "\n",
       "       [[2.06152992e-01-1.58350768e-14j, 6.30713147e-02-4.84487596e-15j,\n",
       "         1.81101117e-03-1.33015863e-16j],\n",
       "        [2.06152992e-01-7.41978476e-15j, 6.30713147e-02-2.26361976e-15j,\n",
       "         1.81101117e-03-5.50818413e-17j],\n",
       "        [8.76131006e-03-5.91704280e-15j, 2.68047210e-03-1.80554479e-15j,\n",
       "         7.69662870e-05-4.51197461e-17j],\n",
       "        [3.16547104e-05-8.13166221e-17j, 9.68457542e-06-1.32164887e-17j,\n",
       "         2.78080049e-07+1.25074859e-17j],\n",
       "        [8.76131006e-03-2.19320123e-17j, 2.68047210e-03+2.19815810e-17j,\n",
       "         7.69662870e-05+1.39395805e-18j]],\n",
       "\n",
       "       [[1.80684231e-03-1.18570644e-14j, 5.52792945e-04-3.61364374e-15j,\n",
       "         1.58727340e-05-1.03432213e-16j],\n",
       "        [8.76131006e-03-5.95860264e-15j, 2.68047210e-03-1.81388712e-15j,\n",
       "         7.69662870e-05-3.63434120e-17j],\n",
       "        [1.80684231e-03-3.32046551e-16j, 5.52792945e-04-8.93014983e-17j,\n",
       "         1.58727340e-05+7.87490904e-18j],\n",
       "        [3.16547104e-05+1.35988662e-17j, 9.68457542e-06+3.43530882e-18j,\n",
       "         2.78080049e-07+9.02236780e-18j],\n",
       "        [3.16547104e-05+9.76890213e-17j, 9.68457542e-06+3.77504904e-17j,\n",
       "         2.78080049e-07+1.93348542e-18j]],\n",
       "\n",
       "       [[1.80684231e-03+1.18570644e-14j, 5.52792945e-04+3.61275990e-15j,\n",
       "         1.58727340e-05+1.03317697e-16j],\n",
       "        [3.16547104e-05-9.76890213e-17j, 9.68457542e-06-2.46777939e-17j,\n",
       "         2.78080049e-07+1.87554585e-17j],\n",
       "        [3.16547104e-05-1.35988662e-17j, 9.68457542e-06+1.77593067e-17j,\n",
       "         2.78080049e-07+1.34050477e-17j],\n",
       "        [1.80684231e-03+3.32046551e-16j, 5.52792945e-04+1.13460061e-16j,\n",
       "         1.58727340e-05+8.12740054e-18j],\n",
       "        [8.76131006e-03+5.95860264e-15j, 2.68047210e-03+1.82549674e-15j,\n",
       "         7.69662870e-05+5.55665891e-17j]],\n",
       "\n",
       "       [[2.06152992e-01+1.58350768e-14j, 6.30713147e-02+4.85859471e-15j,\n",
       "         1.81101117e-03+1.38535383e-16j],\n",
       "        [8.76131006e-03+2.19320123e-17j, 2.68047210e-03-4.93268837e-18j,\n",
       "         7.69662870e-05+5.13732625e-18j],\n",
       "        [3.16547104e-05+8.13166221e-17j, 9.68457542e-06+2.30822273e-17j,\n",
       "         2.78080049e-07+9.17608908e-18j],\n",
       "        [8.76131006e-03+5.91704280e-15j, 2.68047210e-03+1.83329246e-15j,\n",
       "         7.69662870e-05+6.52890000e-17j],\n",
       "        [2.06152992e-01+7.41978476e-15j, 6.30713147e-02+2.28157288e-15j,\n",
       "         1.81101117e-03+7.21231519e-17j]]])"
      ]
     },
     "execution_count": 201,
     "metadata": {},
     "output_type": "execute_result"
    }
   ],
   "source": [
    "# n = 5\n",
    "abelian_utils.unflatten_coefs(zero_coefs, fourier_coef_shape).reshape((fourier_coef_shape[0], fourier_coef_shape[1], fourier_coef_shape[2]//2+1))"
   ]
  },
  {
   "cell_type": "code",
   "execution_count": 197,
   "metadata": {},
   "outputs": [
    {
     "data": {
      "text/plain": [
       "array([[[1.00000001e+00+0.00000000e+00j, 3.05967690e-01+2.85439774e-17j,\n",
       "         1.75226153e-02+0.00000000e+00j],\n",
       "        [2.06153670e-01-4.99970298e-15j, 6.30763614e-02-1.53536552e-15j,\n",
       "         3.61235140e-03-7.21111007e-17j],\n",
       "        [3.61235140e-03+0.00000000e+00j, 1.10526280e-03+3.15486066e-17j,\n",
       "         6.32978430e-05+0.00000000e+00j],\n",
       "        [2.06153670e-01+4.99970298e-15j, 6.30763614e-02+1.57142107e-15j,\n",
       "         3.61235140e-03+7.21111007e-17j]],\n",
       "\n",
       "       [[2.06153670e-01-5.04777705e-15j, 6.30763614e-02-1.50832386e-15j,\n",
       "         3.61235140e-03-8.11249883e-17j],\n",
       "        [2.06153670e-01-2.76425886e-15j, 6.30763614e-02-8.47305434e-16j,\n",
       "         3.61235140e-03-5.10786964e-17j],\n",
       "        [8.79295655e-03-1.37011091e-15j, 2.69036057e-03-3.96611054e-16j,\n",
       "         1.54075593e-04-2.10324044e-17j],\n",
       "        [8.79295655e-03+0.00000000e+00j, 2.69036057e-03+4.80740672e-17j,\n",
       "         1.54075593e-04+9.01388759e-18j]],\n",
       "\n",
       "       [[3.61235140e-03+0.00000000e+00j, 1.10526280e-03+1.95300898e-17j,\n",
       "         6.32978430e-05+0.00000000e+00j],\n",
       "        [8.79295655e-03-1.41818498e-15j, 2.69036057e-03-4.17643458e-16j,\n",
       "         1.54075593e-04-1.20185168e-17j],\n",
       "        [3.61235140e-03+0.00000000e+00j, 1.10526280e-03+1.65254606e-17j,\n",
       "         6.32978430e-05+0.00000000e+00j],\n",
       "        [8.79295655e-03+1.41818498e-15j, 2.69036057e-03+4.53699009e-16j,\n",
       "         1.54075593e-04+1.20185168e-17j]],\n",
       "\n",
       "       [[2.06153670e-01+5.04777705e-15j, 6.30763614e-02+1.56841644e-15j,\n",
       "         3.61235140e-03+8.11249883e-17j],\n",
       "        [8.79295655e-03+0.00000000e+00j, 2.69036057e-03+0.00000000e+00j,\n",
       "         1.54075593e-04-9.01388759e-18j],\n",
       "        [8.79295655e-03+1.37011091e-15j, 2.69036057e-03+4.56703638e-16j,\n",
       "         1.54075593e-04+2.10324044e-17j],\n",
       "        [2.06153670e-01+2.76425886e-15j, 6.30763614e-02+8.95379501e-16j,\n",
       "         3.61235140e-03+5.10786964e-17j]]])"
      ]
     },
     "execution_count": 197,
     "metadata": {},
     "output_type": "execute_result"
    }
   ],
   "source": [
    "# n = 4\n",
    "abelian_utils.unflatten_coefs(zero_coefs, fourier_coef_shape).reshape((fourier_coef_shape[0], fourier_coef_shape[1], fourier_coef_shape[2]//2+1))"
   ]
  },
  {
   "cell_type": "code",
   "execution_count": 195,
   "metadata": {},
   "outputs": [
    {
     "data": {
      "text/plain": [
       "array([[[ 9.99999988e-01+0.00000000e+00j,\n",
       "          2.19020650e-01-2.13582444e-01j,\n",
       "          4.40344994e-04+0.00000000e+00j,\n",
       "          2.19020650e-01+2.13582444e-01j],\n",
       "        [-1.55209798e-01-1.35678689e-01j,\n",
       "         -6.29727375e-02+3.43365343e-03j,\n",
       "         -6.83458582e-05-5.97454320e-05j,\n",
       "         -5.01556491e-03-6.28665233e-02j],\n",
       "        [ 4.82895991e-04+0.00000000e+00j,\n",
       "          1.05764195e-04-1.03138107e-04j,\n",
       "          2.12640835e-07+0.00000000e+00j,\n",
       "          1.05764195e-04+1.03138107e-04j],\n",
       "        [-1.55209798e-01+1.35678689e-01j,\n",
       "         -5.01556491e-03+6.28665233e-02j,\n",
       "         -6.83458582e-05+5.97454320e-05j,\n",
       "         -6.29727375e-02-3.43365343e-03j]],\n",
       "\n",
       "       [[ 1.26183051e-01-1.63023466e-01j,\n",
       "         -7.18225649e-03-6.26559907e-02j,\n",
       "          5.55640755e-05-7.17865678e-05j,\n",
       "          6.24556449e-02-8.75502107e-03j],\n",
       "        [-2.02296563e-01+3.96907159e-02j,\n",
       "         -3.58298852e-02+5.19000815e-02j,\n",
       "         -8.90802800e-05+1.74776082e-05j,\n",
       "         -5.27843656e-02-3.45139085e-02j],\n",
       "        [ 7.57619309e-03+4.39233433e-03j,\n",
       "          2.59746827e-03-6.56129927e-04j,\n",
       "          3.33613874e-06+1.93414245e-06j,\n",
       "          7.21217244e-04+2.58015379e-03j],\n",
       "        [ 5.24128264e-04+8.71647020e-03j,\n",
       "          1.97647995e-03+1.79714240e-03j,\n",
       "          2.30797260e-07+3.83825406e-06j,\n",
       "         -1.74689012e-03+2.02103159e-03j]],\n",
       "\n",
       "       [[-9.05599642e-04+0.00000000e+00j,\n",
       "         -1.98345025e-04+1.93420188e-04j,\n",
       "         -3.98776274e-07+0.00000000e+00j,\n",
       "         -1.98345025e-04-1.93420188e-04j],\n",
       "        [-3.93032029e-03+7.82743788e-03j,\n",
       "          8.10982018e-04+2.55381798e-03j,\n",
       "         -1.73069689e-06+3.44677312e-06j,\n",
       "         -2.53262465e-03+8.74923128e-04j],\n",
       "        [ 3.34451880e-03+0.00000000e+00j,\n",
       "          7.32518690e-04-7.14330508e-04j,\n",
       "          1.47274213e-06+0.00000000e+00j,\n",
       "          7.32518690e-04+7.14330508e-04j],\n",
       "        [-3.93032029e-03-7.82743788e-03j,\n",
       "         -2.53262465e-03-8.74923128e-04j,\n",
       "         -1.73069689e-06-3.44677312e-06j,\n",
       "          8.10982018e-04-2.55381798e-03j]],\n",
       "\n",
       "       [[ 1.26183051e-01+1.63023466e-01j,\n",
       "          6.24556449e-02+8.75502107e-03j,\n",
       "          5.55640755e-05+7.17865678e-05j,\n",
       "         -7.18225649e-03+6.26559907e-02j],\n",
       "        [ 5.24128264e-04-8.71647020e-03j,\n",
       "         -1.74689012e-03-2.02103159e-03j,\n",
       "          2.30797260e-07-3.83825406e-06j,\n",
       "          1.97647995e-03-1.79714240e-03j],\n",
       "        [ 7.57619309e-03-4.39233433e-03j,\n",
       "          7.21217244e-04-2.58015379e-03j,\n",
       "          3.33613874e-06-1.93414245e-06j,\n",
       "          2.59746827e-03+6.56129927e-04j],\n",
       "        [-2.02296563e-01-3.96907159e-02j,\n",
       "         -5.27843656e-02+3.45139085e-02j,\n",
       "         -8.90802800e-05-1.74776082e-05j,\n",
       "         -3.58298852e-02-5.19000815e-02j]]])"
      ]
     },
     "execution_count": 195,
     "metadata": {},
     "output_type": "execute_result"
    }
   ],
   "source": [
    "baseline_coefs"
   ]
  },
  {
   "cell_type": "code",
   "execution_count": 198,
   "metadata": {},
   "outputs": [
    {
     "data": {
      "text/plain": [
       "array([[[ 1.00000001e+00+0.00000000e+00j,\n",
       "          2.19053432e-01-2.13616061e-01j,\n",
       "          4.40344994e-04+1.75170814e-02j,\n",
       "          2.19053432e-01+2.13616061e-01j],\n",
       "        [-1.55210682e-01-1.35679696e-01j,\n",
       "         -6.29827939e-02+3.43439125e-03j,\n",
       "          2.30836601e-03-2.77858399e-03j,\n",
       "         -5.01607026e-03-6.28765967e-02j],\n",
       "        [ 4.82904624e-04-3.57992818e-03j,\n",
       "         -6.58948231e-04-8.87351726e-04j,\n",
       "         -6.24972480e-05+1.00354830e-05j,\n",
       "         -6.58948231e-04+8.87351726e-04j],\n",
       "        [-1.55210682e-01+1.35679696e-01j,\n",
       "         -5.01607026e-03+6.28765967e-02j,\n",
       "          2.30836601e-03+2.77858399e-03j,\n",
       "         -6.29827939e-02-3.43439125e-03j]],\n",
       "\n",
       "       [[-1.08266677e-01-1.75435635e-01j,\n",
       "         -6.11920558e-02-1.53022768e-02j,\n",
       "          3.02544559e-03-1.97376838e-03j,\n",
       "          1.37596819e-02-6.15572784e-02j],\n",
       "        [-3.39499603e-02+2.03338968e-01j,\n",
       "          3.59996135e-02+5.17943549e-02j,\n",
       "         -3.57685491e-03-5.05164917e-04j,\n",
       "         -5.08733240e-02+3.72898415e-02j],\n",
       "        [-8.03291441e-03+3.57608319e-03j,\n",
       "         -9.95728656e-04+2.49931280e-03j,\n",
       "          1.00681023e-04+1.16630270e-04j,\n",
       "          2.68045733e-03+2.30626390e-04j],\n",
       "        [ 8.40148032e-03+2.59445819e-03j,\n",
       "          2.39459101e-03-1.22636615e-03j,\n",
       "         -4.17477850e-05+1.48311870e-04j,\n",
       "          1.28615515e-03+2.36301607e-03j]],\n",
       "\n",
       "       [[-1.61971774e-03-3.22886932e-03j,\n",
       "         -1.04454306e-03-3.61297179e-04j,\n",
       "         -5.72736007e-05-2.69509107e-05j,\n",
       "         -1.04454306e-03+3.61297179e-04j],\n",
       "        [-2.20437472e-03+8.51215701e-03j,\n",
       "          1.33545758e-03+2.33550702e-03j,\n",
       "          6.17855063e-05+1.41144747e-04j,\n",
       "          2.49307032e-03+1.01125685e-03j],\n",
       "        [-3.41641443e-03+1.17353955e-03j,\n",
       "         -4.97690403e-04+9.86868846e-04j,\n",
       "          1.90525867e-05-6.03623713e-05j,\n",
       "         -4.97690403e-04-9.86868846e-04j],\n",
       "        [ 8.14107066e-03+3.32250710e-03j,\n",
       "          2.49307032e-03-1.01125685e-03j,\n",
       "          6.17855063e-05-1.41144747e-04j,\n",
       "          1.33545758e-03-2.33550702e-03j]],\n",
       "\n",
       "       [[-1.08266677e-01+1.75435635e-01j,\n",
       "          1.37596819e-02+6.15572784e-02j,\n",
       "          3.02544559e-03+1.97376838e-03j,\n",
       "         -6.11920558e-02+1.53022768e-02j],\n",
       "        [ 8.40148032e-03-2.59445819e-03j,\n",
       "          1.28615515e-03-2.36301607e-03j,\n",
       "         -4.17477850e-05-1.48311870e-04j,\n",
       "          2.39459101e-03+1.22636615e-03j],\n",
       "        [ 6.79827529e-03+5.57669598e-03j,\n",
       "          2.68045733e-03-2.30626390e-04j,\n",
       "          1.00681023e-04-1.16630270e-04j,\n",
       "         -9.95728656e-04-2.49931280e-03j],\n",
       "        [-3.39499603e-02-2.03338968e-01j,\n",
       "         -5.08733240e-02-3.72898415e-02j,\n",
       "         -3.57685491e-03+5.05164917e-04j,\n",
       "          3.59996135e-02-5.17943549e-02j]]])"
      ]
     },
     "execution_count": 198,
     "metadata": {},
     "output_type": "execute_result"
    }
   ],
   "source": [
    "coefs"
   ]
  },
  {
   "cell_type": "code",
   "execution_count": 189,
   "metadata": {},
   "outputs": [
    {
     "data": {
      "text/plain": [
       "array([[[ 9.99999976e-01+0.00000000e+00j,\n",
       "          9.99846588e-01+3.85648351e-06j,\n",
       "          6.31521697e-04-2.51221591e-02j,\n",
       "          9.99846588e-01-3.85648351e-06j],\n",
       "        [ 9.99993556e-01-8.57390764e-07j,\n",
       "          9.99840168e-01+2.99919950e-06j,\n",
       "          6.31496103e-04-2.51219983e-02j,\n",
       "          9.99840168e-01-4.71371800e-06j],\n",
       "        [ 1.78704292e-02+1.32479272e-01j,\n",
       "          1.78671772e-02+1.32459020e-01j,\n",
       "         -3.31687986e-03-5.32607313e-04j,\n",
       "          1.78671772e-02-1.32459020e-01j],\n",
       "        [ 9.99993556e-01+8.57390764e-07j,\n",
       "          9.99840168e-01+4.71371800e-06j,\n",
       "          6.31496103e-04+2.51219983e-02j,\n",
       "          9.99840168e-01-2.99919950e-06j]],\n",
       "\n",
       "       [[ 3.51504451e-01+9.36179640e-01j,\n",
       "          3.51446924e-01+9.36037396e-01j,\n",
       "          2.37408371e-02-8.23933318e-03j,\n",
       "          3.51454145e-01+9.36034685e-01j],\n",
       "        [ 3.51502660e-01+9.36185839e-01j,\n",
       "          3.51445133e-01+9.36043594e-01j,\n",
       "          2.37409917e-02-8.23928426e-03j,\n",
       "          3.51452354e-01+9.36040883e-01j],\n",
       "        [-5.83986602e-01-8.06770577e-01j,\n",
       "         -5.83893914e-01-8.06649080e-01j,\n",
       "          2.36513164e-02-8.18741151e-03j,\n",
       "          3.49299478e-01+9.32525986e-01j],\n",
       "        [ 3.49448252e-01+9.29579195e-01j,\n",
       "          3.49391066e-01+9.29437956e-01j,\n",
       "          2.35737211e-02-8.19184535e-03j,\n",
       "          3.49398236e-01+9.29435260e-01j]],\n",
       "\n",
       "       [[ 1.12407580e-01-2.24081875e-01j,\n",
       "          1.12391203e-01-2.24047070e-01j,\n",
       "          5.70040847e-03-2.68240862e-03j,\n",
       "          1.12391203e-01+2.24047070e-01j],\n",
       "        [ 9.73824257e-01+2.09541097e-01j,\n",
       "          9.73674075e-01+2.09512712e-01j,\n",
       "          1.59887664e-02+1.92608721e-02j,\n",
       "         -7.50097999e-01+6.55202085e-01j],\n",
       "        [-8.75637208e-01-3.00781687e-01j,\n",
       "         -8.75501735e-01-3.00738928e-01j,\n",
       "          7.00330167e-03+2.21878479e-02j,\n",
       "         -8.75501735e-01+3.00738928e-01j],\n",
       "        [-7.50215601e-01-6.55299707e-01j,\n",
       "         -7.50097999e-01-6.55202085e-01j,\n",
       "          1.59887664e-02-1.92608721e-02j,\n",
       "          9.73674075e-01-2.09512712e-01j]],\n",
       "\n",
       "       [[ 3.51504451e-01-9.36179640e-01j,\n",
       "          3.51454145e-01-9.36034685e-01j,\n",
       "          2.37408371e-02+8.23933318e-03j,\n",
       "          3.51446924e-01-9.36037396e-01j],\n",
       "        [ 3.49448252e-01-9.29579195e-01j,\n",
       "          3.49398236e-01-9.29435260e-01j,\n",
       "          2.35737211e-02+8.19184535e-03j,\n",
       "          3.49391066e-01-9.29437956e-01j],\n",
       "        [ 3.49349468e-01-9.32670395e-01j,\n",
       "          3.49299478e-01-9.32525986e-01j,\n",
       "          2.36513164e-02+8.18741151e-03j,\n",
       "         -5.83893914e-01+8.06649080e-01j],\n",
       "        [ 3.51502660e-01-9.36185839e-01j,\n",
       "          3.51452354e-01-9.36040883e-01j,\n",
       "          2.37409917e-02+8.23928426e-03j,\n",
       "          3.51445133e-01-9.36043594e-01j]]])"
      ]
     },
     "execution_count": 189,
     "metadata": {},
     "output_type": "execute_result"
    }
   ],
   "source": [
    "baseline_coefs / coefs"
   ]
  },
  {
   "cell_type": "code",
   "execution_count": 182,
   "metadata": {},
   "outputs": [
    {
     "data": {
      "text/plain": [
       "array([[[0.99999998, 0.99984659, 0.0251301 , 0.99984659],\n",
       "        [0.99999356, 0.99984017, 0.02512993, 0.99984017],\n",
       "        [0.13367913, 0.13365862, 0.00335937, 0.13365862],\n",
       "        [0.99999356, 0.99984017, 0.02512993, 0.99984017]],\n",
       "\n",
       "       [[0.99999385, 0.99984046, 0.02512994, 0.99984046],\n",
       "        [0.99999902, 0.99984563, 0.02513007, 0.99984563],\n",
       "        [0.99595136, 0.99579859, 0.02502835, 0.99579859],\n",
       "        [0.99309192, 0.99293959, 0.0249565 , 0.99293959]],\n",
       "\n",
       "       [[0.25069533, 0.25065688, 0.0063    , 0.25065688],\n",
       "        [0.99611302, 0.99596023, 0.02503242, 0.99596023],\n",
       "        [0.92585644, 0.92571442, 0.02326686, 0.92571442],\n",
       "        [0.99611302, 0.99596023, 0.02503242, 0.99596023]],\n",
       "\n",
       "       [[0.99999385, 0.99984046, 0.02512994, 0.99984046],\n",
       "        [0.99309192, 0.99293959, 0.0249565 , 0.99293959],\n",
       "        [0.99595136, 0.99579859, 0.02502835, 0.99579859],\n",
       "        [0.99999902, 0.99984563, 0.02513007, 0.99984563]]])"
      ]
     },
     "execution_count": 182,
     "metadata": {},
     "output_type": "execute_result"
    }
   ],
   "source": [
    "np.abs(baseline_coefs / coefs)"
   ]
  },
  {
   "cell_type": "code",
   "execution_count": 77,
   "metadata": {},
   "outputs": [
    {
     "data": {
      "text/plain": [
       "array([[[ 1.00000001e+00+0.00000000e+00j,\n",
       "          3.05967690e-01+5.10786964e-17j,\n",
       "          1.75226153e-02+0.00000000e+00j],\n",
       "        [ 4.20648088e-17-2.06153665e-01j,\n",
       "          3.60555504e-17-6.30763599e-02j,\n",
       "          9.01388759e-18-3.61235131e-03j],\n",
       "        [-3.61232783e-03+0.00000000e+00j,\n",
       "         -1.10525559e-03+0.00000000e+00j,\n",
       "         -6.32974300e-05+0.00000000e+00j],\n",
       "        [ 4.20648088e-17+2.06153665e-01j,\n",
       "          3.00462920e-18+6.30763599e-02j,\n",
       "          9.01388759e-18+3.61235131e-03j]],\n",
       "\n",
       "       [[ 1.45771705e-01-1.45771705e-01j,\n",
       "          4.46014314e-02-4.46014314e-02j,\n",
       "          2.55430147e-03-2.55430147e-03j],\n",
       "        [-1.45771705e-01-1.45771705e-01j,\n",
       "         -4.46014314e-02-4.46014314e-02j,\n",
       "         -2.55430147e-03-2.55430147e-03j],\n",
       "        [-6.19518011e-03+6.19518011e-03j,\n",
       "         -1.89552493e-03+1.89552493e-03j,\n",
       "         -1.08555756e-04+1.08555756e-04j],\n",
       "        [ 6.19518011e-03+6.19518011e-03j,\n",
       "          1.89552493e-03+1.89552493e-03j,\n",
       "          1.08555756e-04+1.08555756e-04j]],\n",
       "\n",
       "       [[ 9.61481343e-17+0.00000000e+00j,\n",
       "          4.80740672e-17+1.50231460e-17j,\n",
       "          3.00462920e-18+0.00000000e+00j],\n",
       "        [-8.72965891e-03-2.40370336e-17j,\n",
       "         -2.67099354e-03+2.40370336e-17j,\n",
       "         -1.52966453e-04+6.00925839e-18j],\n",
       "        [-1.20185168e-17+0.00000000e+00j,\n",
       "          6.00925839e-18+6.00925839e-18j,\n",
       "          3.00462920e-18+0.00000000e+00j],\n",
       "        [-8.72965891e-03+2.40370336e-17j,\n",
       "         -2.67099354e-03+4.80740672e-17j,\n",
       "         -1.52966453e-04-6.00925839e-18j]],\n",
       "\n",
       "       [[ 1.45771705e-01+1.45771705e-01j,\n",
       "          4.46014314e-02+4.46014314e-02j,\n",
       "          2.55430147e-03+2.55430147e-03j],\n",
       "        [ 6.19518011e-03-6.19518011e-03j,\n",
       "          1.89552493e-03-1.89552493e-03j,\n",
       "          1.08555756e-04-1.08555756e-04j],\n",
       "        [-6.19518011e-03-6.19518011e-03j,\n",
       "         -1.89552493e-03-1.89552493e-03j,\n",
       "         -1.08555756e-04-1.08555756e-04j],\n",
       "        [-1.45771705e-01+1.45771705e-01j,\n",
       "         -4.46014314e-02+4.46014314e-02j,\n",
       "         -2.55430147e-03+2.55430147e-03j]]])"
      ]
     },
     "execution_count": 77,
     "metadata": {},
     "output_type": "execute_result"
    }
   ],
   "source": [
    "tmp1 = abelian_utils.crop_conjugate_symmetry(baseline_coefs, fourier_coef_shape)\n",
    "tmp1"
   ]
  },
  {
   "cell_type": "code",
   "execution_count": 78,
   "metadata": {},
   "outputs": [
    {
     "data": {
      "text/plain": [
       "array([[[1.00000001e+00+0.00000000e+00j, 3.05967690e-01+2.85439774e-17j,\n",
       "         1.75226153e-02+0.00000000e+00j],\n",
       "        [2.06153670e-01-4.99970298e-15j, 6.30763614e-02-1.53536552e-15j,\n",
       "         3.61235140e-03-7.21111007e-17j],\n",
       "        [3.61235140e-03+0.00000000e+00j, 1.10526280e-03+3.15486066e-17j,\n",
       "         6.32978430e-05+0.00000000e+00j],\n",
       "        [2.06153670e-01+4.99970298e-15j, 6.30763614e-02+1.57142107e-15j,\n",
       "         3.61235140e-03+7.21111007e-17j]],\n",
       "\n",
       "       [[2.06153670e-01-5.04777705e-15j, 6.30763614e-02-1.50832386e-15j,\n",
       "         3.61235140e-03-8.11249883e-17j],\n",
       "        [2.06153670e-01-2.76425886e-15j, 6.30763614e-02-8.47305434e-16j,\n",
       "         3.61235140e-03-5.10786964e-17j],\n",
       "        [8.79295655e-03-1.37011091e-15j, 2.69036057e-03-3.96611054e-16j,\n",
       "         1.54075593e-04-2.10324044e-17j],\n",
       "        [8.79295655e-03+0.00000000e+00j, 2.69036057e-03+4.80740672e-17j,\n",
       "         1.54075593e-04+9.01388759e-18j]],\n",
       "\n",
       "       [[3.61235140e-03+0.00000000e+00j, 1.10526280e-03+1.95300898e-17j,\n",
       "         6.32978430e-05+0.00000000e+00j],\n",
       "        [8.79295655e-03-1.41818498e-15j, 2.69036057e-03-4.17643458e-16j,\n",
       "         1.54075593e-04-1.20185168e-17j],\n",
       "        [3.61235140e-03+0.00000000e+00j, 1.10526280e-03+1.65254606e-17j,\n",
       "         6.32978430e-05+0.00000000e+00j],\n",
       "        [8.79295655e-03+1.41818498e-15j, 2.69036057e-03+4.53699009e-16j,\n",
       "         1.54075593e-04+1.20185168e-17j]],\n",
       "\n",
       "       [[2.06153670e-01+5.04777705e-15j, 6.30763614e-02+1.56841644e-15j,\n",
       "         3.61235140e-03+8.11249883e-17j],\n",
       "        [8.79295655e-03+0.00000000e+00j, 2.69036057e-03+0.00000000e+00j,\n",
       "         1.54075593e-04-9.01388759e-18j],\n",
       "        [8.79295655e-03+1.37011091e-15j, 2.69036057e-03+4.56703638e-16j,\n",
       "         1.54075593e-04+2.10324044e-17j],\n",
       "        [2.06153670e-01+2.76425886e-15j, 6.30763614e-02+8.95379501e-16j,\n",
       "         3.61235140e-03+5.10786964e-17j]]])"
      ]
     },
     "execution_count": 78,
     "metadata": {},
     "output_type": "execute_result"
    }
   ],
   "source": [
    "tmp2 = abelian_utils.unflatten_coefs(zero_coefs, fourier_coef_shape).reshape(fourier_coef_shape[0], fourier_coef_shape[1], fourier_coef_shape[2]//2+1)\n",
    "tmp2"
   ]
  },
  {
   "cell_type": "code",
   "execution_count": 64,
   "metadata": {},
   "outputs": [
    {
     "data": {
      "text/plain": [
       "False"
      ]
     },
     "execution_count": 64,
     "metadata": {},
     "output_type": "execute_result"
    }
   ],
   "source": [
    "np.allclose(baseline_coefs, coefs, rtol=1e-15, atol=1e-15)"
   ]
  },
  {
   "cell_type": "code",
   "execution_count": 173,
   "metadata": {},
   "outputs": [],
   "source": [
    "baseline_coefs_alt = np.fft.fftn(baseline_bump, s=fourier_coef_shape, norm='forward') * (1.0 * sqrt(3)/2 * 1.0)\n",
    "baseline_bump_alt_reconstructed = np.fft.ifftn(baseline_coefs_alt, s=fourier_coef_shape, norm='forward') / (1.0 * sqrt(3)/2 * 1.0)\n",
    "# baseline_coefs_alt = np.fft.fftn(baseline_bump, s=fourier_coef_shape, norm='forward') * (1.5 * sqrt(3)/2 * 1.8)\n",
    "# baseline_bump_alt_reconstructed = np.fft.ifftn(baseline_coefs_alt, s=fourier_coef_shape, norm='forward') / (1.5 * sqrt(3)/2 * 1.8)"
   ]
  },
  {
   "cell_type": "code",
   "execution_count": 174,
   "metadata": {},
   "outputs": [
    {
     "data": {
      "text/plain": [
       "array([[[ 9.99999988e-01+0.00000000e+00j,\n",
       "          2.19020650e-01-2.13582444e-01j,\n",
       "          4.40344994e-04+0.00000000e+00j,\n",
       "          2.19020650e-01+2.13582444e-01j],\n",
       "        [-2.60944719e-02-2.04495420e-01j,\n",
       "         -4.93918604e-02-3.92153992e-02j,\n",
       "         -1.14905702e-05-9.00485354e-05j,\n",
       "          3.79614039e-02-5.03620415e-02j],\n",
       "        [-3.49659028e-03+0.00000000e+00j,\n",
       "         -7.65825485e-04+7.46810307e-04j,\n",
       "         -1.53970604e-06+0.00000000e+00j,\n",
       "         -7.65825485e-04-7.46810307e-04j],\n",
       "        [-2.60944719e-02+2.04495420e-01j,\n",
       "          3.79614039e-02+5.03620415e-02j,\n",
       "         -1.14905702e-05+9.00485354e-05j,\n",
       "         -4.93918604e-02+3.92153992e-02j]],\n",
       "\n",
       "       [[ 6.01213186e-02-1.97191754e-01j,\n",
       "         -2.89488869e-02-5.60299250e-02j,\n",
       "          2.64741220e-05-8.68324027e-05j,\n",
       "          5.52845078e-02-3.03482084e-02j],\n",
       "        [-2.03215991e-01-3.46775627e-02j,\n",
       "         -5.19150176e-02+3.58082661e-02j,\n",
       "         -8.94851452e-05-1.52700913e-05j,\n",
       "         -3.71019802e-02-5.09984710e-02j],\n",
       "        [-3.67619545e-04+8.77978703e-03j,\n",
       "          1.79469212e-03+2.00147177e-03j,\n",
       "         -1.61879428e-07+3.86613531e-06j,\n",
       "         -1.95572467e-03+1.84443760e-03j],\n",
       "        [ 8.01683915e-03+3.58310841e-03j,\n",
       "          2.52114241e-03-9.27481378e-04j,\n",
       "          3.53017503e-06+1.57780387e-06j,\n",
       "          9.90564281e-04+2.49703086e-03j]],\n",
       "\n",
       "       [[-2.99787683e-03+0.00000000e+00j,\n",
       "         -6.56596940e-04+6.40293869e-04j,\n",
       "         -1.32010007e-06+0.00000000e+00j,\n",
       "         -6.56596940e-04-6.40293869e-04j],\n",
       "        [-3.91468719e-03+7.85860211e-03j,\n",
       "          8.21062124e-04+2.55730463e-03j,\n",
       "         -1.72381293e-06+3.46049614e-06j,\n",
       "         -2.53585681e-03+8.85087696e-04j],\n",
       "        [ 3.40791736e-03+0.00000000e+00j,\n",
       "          7.46404284e-04-7.27871328e-04j,\n",
       "          1.50065936e-06+0.00000000e+00j,\n",
       "          7.46404284e-04+7.27871328e-04j],\n",
       "        [-3.91468719e-03-7.85860211e-03j,\n",
       "         -2.53585681e-03-8.85087696e-04j,\n",
       "         -1.72381293e-06-3.46049614e-06j,\n",
       "          8.21062124e-04-2.55730463e-03j]],\n",
       "\n",
       "       [[ 6.01213186e-02+1.97191754e-01j,\n",
       "          5.52845078e-02+3.03482084e-02j,\n",
       "          2.64741220e-05+8.68324027e-05j,\n",
       "         -2.89488869e-02+5.60299250e-02j],\n",
       "        [ 8.01683915e-03-3.58310841e-03j,\n",
       "          9.90564281e-04-2.49703086e-03j,\n",
       "          3.53017503e-06-1.57780387e-06j,\n",
       "          2.52114241e-03+9.27481378e-04j],\n",
       "        [-3.67619545e-04-8.77978703e-03j,\n",
       "         -1.95572467e-03-1.84443760e-03j,\n",
       "         -1.61879428e-07-3.86613531e-06j,\n",
       "          1.79469212e-03-2.00147177e-03j],\n",
       "        [-2.03215991e-01+3.46775627e-02j,\n",
       "         -3.71019802e-02+5.09984710e-02j,\n",
       "         -8.94851452e-05+1.52700913e-05j,\n",
       "         -5.19150176e-02-3.58082661e-02j]]])"
      ]
     },
     "execution_count": 174,
     "metadata": {},
     "output_type": "execute_result"
    }
   ],
   "source": [
    "baseline_coefs_alt"
   ]
  },
  {
   "cell_type": "code",
   "execution_count": 123,
   "metadata": {},
   "outputs": [
    {
     "data": {
      "text/plain": [
       "True"
      ]
     },
     "execution_count": 123,
     "metadata": {},
     "output_type": "execute_result"
    }
   ],
   "source": [
    "np.allclose(baseline_bump, baseline_bump_alt_reconstructed)"
   ]
  },
  {
   "cell_type": "code",
   "execution_count": 124,
   "metadata": {},
   "outputs": [
    {
     "data": {
      "text/plain": [
       "True"
      ]
     },
     "execution_count": 124,
     "metadata": {},
     "output_type": "execute_result"
    }
   ],
   "source": [
    "np.allclose(baseline_coefs, baseline_coefs_alt, rtol=1e-15, atol=1e-15)"
   ]
  },
  {
   "cell_type": "code",
   "execution_count": 127,
   "metadata": {},
   "outputs": [
    {
     "data": {
      "text/plain": [
       "True"
      ]
     },
     "execution_count": 127,
     "metadata": {},
     "output_type": "execute_result"
    }
   ],
   "source": [
    "tmp3 = abelian_utils.crop_conjugate_symmetry(baseline_coefs_alt, fourier_coef_shape)\n",
    "np.allclose(baseline_coefs_alt, abelian_utils.append_conjugate_symmetry(tmp3, fourier_coef_shape), rtol=1e-15, atol=1e-15)"
   ]
  },
  {
   "cell_type": "code",
   "execution_count": 130,
   "metadata": {},
   "outputs": [
    {
     "data": {
      "text/plain": [
       "True"
      ]
     },
     "execution_count": 130,
     "metadata": {},
     "output_type": "execute_result"
    }
   ],
   "source": [
    "tmp4 = np.fft.rfftn(baseline_bump, s=fourier_coef_shape, norm='forward')  # * (1.0 * sqrt(3)/2 * 1.0)\n",
    "np.allclose(baseline_coefs_alt, abelian_utils.append_conjugate_symmetry(tmp4, fourier_coef_shape), rtol=1e-15, atol=1e-15)"
   ]
  },
  {
   "cell_type": "code",
   "execution_count": 143,
   "metadata": {},
   "outputs": [
    {
     "data": {
      "text/plain": [
       "False"
      ]
     },
     "execution_count": 143,
     "metadata": {},
     "output_type": "execute_result"
    }
   ],
   "source": [
    "tmp5 = rot_mat.dot(zero_coefs)\n",
    "tmp6 = abelian_utils.unflatten_coefs(tmp5, fourier_coef_shape).reshape((fourier_coef_shape[0], fourier_coef_shape[1], fourier_coef_shape[2]//2+1))\n",
    "np.allclose(baseline_coefs_alt, abelian_utils.append_conjugate_symmetry(tmp6, fourier_coef_shape), rtol=1e-15, atol=1e-15)"
   ]
  },
  {
   "cell_type": "code",
   "execution_count": 137,
   "metadata": {},
   "outputs": [
    {
     "data": {
      "text/plain": [
       "array([[[1.00000000e+00, 1.00000000e+00, 1.00000000e+00, 1.00000000e+00],\n",
       "        [9.99999976e-01, 9.99999976e-01, 9.99999976e-01, 9.99999976e-01],\n",
       "        [9.99993476e-01, 9.99993476e-01, 9.99993476e-01, 9.99993476e-01],\n",
       "        [9.99999976e-01, 9.99999976e-01, 9.99999976e-01, 9.99999976e-01]],\n",
       "\n",
       "       [[9.99993464e-01, 9.99993464e-01, 9.99993464e-01, 9.99993464e-01],\n",
       "        [9.99993464e-01, 9.99993464e-01, 9.99993464e-01, 9.99993464e-01],\n",
       "        [9.96400662e-01, 9.96400662e-01, 9.96400662e-01, 9.96400662e-01],\n",
       "        [9.96400662e-01, 9.96400662e-01, 9.96400662e-01, 9.96400662e-01]],\n",
       "\n",
       "       [[5.32329908e-14, 6.52575552e-14, 1.89872454e-13, 6.52575552e-14],\n",
       "        [9.92801325e-01, 9.92801325e-01, 9.92801325e-01, 9.92801325e-01],\n",
       "        [2.32894335e-14, 1.76700870e-14, 3.79744908e-13, 1.76700870e-14],\n",
       "        [9.92801325e-01, 9.92801325e-01, 9.92801325e-01, 9.92801325e-01]],\n",
       "\n",
       "       [[9.99993464e-01, 9.99993464e-01, 9.99993464e-01, 9.99993464e-01],\n",
       "        [9.96400662e-01, 9.96400662e-01, 9.96400662e-01, 9.96400662e-01],\n",
       "        [9.96400662e-01, 9.96400662e-01, 9.96400662e-01, 9.96400662e-01],\n",
       "        [9.99993464e-01, 9.99993464e-01, 9.99993464e-01, 9.99993464e-01]]])"
      ]
     },
     "execution_count": 137,
     "metadata": {},
     "output_type": "execute_result"
    }
   ],
   "source": [
    "np.abs(baseline_coefs_alt) / np.abs(abelian_utils.append_conjugate_symmetry(tmp6, fourier_coef_shape))"
   ]
  },
  {
   "cell_type": "code",
   "execution_count": 135,
   "metadata": {},
   "outputs": [
    {
     "data": {
      "text/plain": [
       "array([[[ 1.00000001e+00+0.00000000e+00j,\n",
       "          3.05967690e-01+3.45532358e-17j,\n",
       "          1.75226153e-02+0.00000000e+00j,\n",
       "          3.05967690e-01-3.45532358e-17j],\n",
       "        [ 2.06153665e-01-6.36981390e-15j,\n",
       "          6.30763599e-02-1.91695343e-15j,\n",
       "          3.61235131e-03-5.40833256e-17j,\n",
       "          6.30763599e-02-1.95300898e-15j],\n",
       "        [ 3.61232783e-03+0.00000000e+00j,\n",
       "          1.10525559e-03+1.35208314e-17j,\n",
       "          6.32974300e-05+0.00000000e+00j,\n",
       "          1.10525559e-03-1.35208314e-17j],\n",
       "        [ 2.06153665e-01+6.36981390e-15j,\n",
       "          6.30763599e-02+1.95300898e-15j,\n",
       "          3.61235131e-03+5.40833256e-17j,\n",
       "          6.30763599e-02+1.91695343e-15j]],\n",
       "\n",
       "       [[ 1.45771705e-01-1.45771705e-01j,\n",
       "          4.46014314e-02-4.46014314e-02j,\n",
       "          2.55430147e-03-2.55430147e-03j,\n",
       "          4.46014314e-02-4.46014314e-02j],\n",
       "        [ 1.45771705e-01-1.45771705e-01j,\n",
       "          4.46014314e-02-4.46014314e-02j,\n",
       "          2.55430147e-03-2.55430147e-03j,\n",
       "          4.46014314e-02-4.46014314e-02j],\n",
       "        [ 6.19518011e-03-6.19518011e-03j,\n",
       "          1.89552493e-03-1.89552493e-03j,\n",
       "          1.08555756e-04-1.08555756e-04j,\n",
       "          1.89552493e-03-1.89552493e-03j],\n",
       "        [ 6.19518011e-03-6.19518011e-03j,\n",
       "          1.89552493e-03-1.89552493e-03j,\n",
       "          1.08555756e-04-1.08555756e-04j,\n",
       "          1.89552493e-03-1.89552493e-03j]],\n",
       "\n",
       "       [[ 1.92296269e-16+0.00000000e+00j,\n",
       "          7.21111007e-17-1.50231460e-18j,\n",
       "          1.20185168e-17+0.00000000e+00j,\n",
       "          7.21111007e-17+1.50231460e-18j],\n",
       "        [ 1.20185168e-17-8.72965891e-03j,\n",
       "         -6.00925839e-18-2.67099354e-03j,\n",
       "          0.00000000e+00-1.52966453e-04j,\n",
       "          2.40370336e-17-2.67099354e-03j],\n",
       "        [-8.41296175e-17+0.00000000e+00j,\n",
       "         -1.80277752e-17+7.51157299e-18j,\n",
       "         -2.40370336e-17+0.00000000e+00j,\n",
       "         -1.80277752e-17-7.51157299e-18j],\n",
       "        [ 1.20185168e-17+8.72965891e-03j,\n",
       "          2.40370336e-17+2.67099354e-03j,\n",
       "          0.00000000e+00+1.52966453e-04j,\n",
       "         -6.00925839e-18+2.67099354e-03j]],\n",
       "\n",
       "       [[ 1.45771705e-01+1.45771705e-01j,\n",
       "          4.46014314e-02+4.46014314e-02j,\n",
       "          2.55430147e-03+2.55430147e-03j,\n",
       "          4.46014314e-02+4.46014314e-02j],\n",
       "        [ 6.19518011e-03+6.19518011e-03j,\n",
       "          1.89552493e-03+1.89552493e-03j,\n",
       "          1.08555756e-04+1.08555756e-04j,\n",
       "          1.89552493e-03+1.89552493e-03j],\n",
       "        [ 6.19518011e-03+6.19518011e-03j,\n",
       "          1.89552493e-03+1.89552493e-03j,\n",
       "          1.08555756e-04+1.08555756e-04j,\n",
       "          1.89552493e-03+1.89552493e-03j],\n",
       "        [ 1.45771705e-01+1.45771705e-01j,\n",
       "          4.46014314e-02+4.46014314e-02j,\n",
       "          2.55430147e-03+2.55430147e-03j,\n",
       "          4.46014314e-02+4.46014314e-02j]]])"
      ]
     },
     "execution_count": 135,
     "metadata": {},
     "output_type": "execute_result"
    }
   ],
   "source": [
    "baseline_coefs_alt"
   ]
  },
  {
   "cell_type": "code",
   "execution_count": 136,
   "metadata": {},
   "outputs": [
    {
     "data": {
      "text/plain": [
       "array([[[ 1.00000001e+00+0.00000000e+00j,\n",
       "          3.05967690e-01+2.85439774e-17j,\n",
       "          1.75226153e-02-0.00000000e+00j,\n",
       "          3.05967690e-01-2.85439774e-17j],\n",
       "        [ 2.06153670e-01-4.99970298e-15j,\n",
       "          6.30763614e-02-1.53536552e-15j,\n",
       "          3.61235140e-03-7.21111007e-17j,\n",
       "          6.30763614e-02-1.57142107e-15j],\n",
       "        [ 3.61235140e-03+0.00000000e+00j,\n",
       "          1.10526280e-03+3.15486066e-17j,\n",
       "          6.32978430e-05-0.00000000e+00j,\n",
       "          1.10526280e-03-3.15486066e-17j],\n",
       "        [ 2.06153670e-01+4.99970298e-15j,\n",
       "          6.30763614e-02+1.57142107e-15j,\n",
       "          3.61235140e-03+7.21111007e-17j,\n",
       "          6.30763614e-02+1.53536552e-15j]],\n",
       "\n",
       "       [[ 1.45772658e-01-1.45772658e-01j,\n",
       "          4.46017229e-02-4.46017229e-02j,\n",
       "          2.55431817e-03-2.55431817e-03j,\n",
       "          4.46017229e-02-4.46017229e-02j],\n",
       "        [ 1.45772658e-01-1.45772658e-01j,\n",
       "          4.46017229e-02-4.46017229e-02j,\n",
       "          2.55431817e-03-2.55431817e-03j,\n",
       "          4.46017229e-02-4.46017229e-02j],\n",
       "        [ 6.21755920e-03-6.21755920e-03j,\n",
       "          1.90237221e-03-1.90237221e-03j,\n",
       "          1.08947896e-04-1.08947896e-04j,\n",
       "          1.90237221e-03-1.90237221e-03j],\n",
       "        [ 6.21755920e-03-6.21755920e-03j,\n",
       "          1.90237221e-03-1.90237221e-03j,\n",
       "          1.08947896e-04-1.08947896e-04j,\n",
       "          1.90237221e-03-1.90237221e-03j]],\n",
       "\n",
       "       [[ 2.21192729e-19+3.61235140e-03j,\n",
       "         -1.94624120e-17+1.10526280e-03j,\n",
       "          3.87587504e-21-6.32978430e-05j,\n",
       "         -1.94624120e-17-1.10526280e-03j],\n",
       "        [ 1.41872339e-15+8.79295655e-03j,\n",
       "          4.17808196e-16+2.69036057e-03j,\n",
       "         -1.20090824e-17-1.54075593e-04j,\n",
       "         -4.53534272e-16-2.69036057e-03j],\n",
       "        [ 2.21192729e-19+3.61235140e-03j,\n",
       "         -1.64577828e-17+1.10526280e-03j,\n",
       "          3.87587504e-21-6.32978430e-05j,\n",
       "         -1.64577828e-17-1.10526280e-03j],\n",
       "        [-1.41764657e-15+8.79295655e-03j,\n",
       "         -4.53534272e-16+2.69036057e-03j,\n",
       "         -1.20090824e-17+1.54075593e-04j,\n",
       "          4.17808196e-16-2.69036057e-03j]],\n",
       "\n",
       "       [[ 1.45772658e-01+1.45772658e-01j,\n",
       "          4.46017229e-02+4.46017229e-02j,\n",
       "          2.55431817e-03+2.55431817e-03j,\n",
       "          4.46017229e-02+4.46017229e-02j],\n",
       "        [ 6.21755920e-03+6.21755920e-03j,\n",
       "          1.90237221e-03+1.90237221e-03j,\n",
       "          1.08947896e-04+1.08947896e-04j,\n",
       "          1.90237221e-03+1.90237221e-03j],\n",
       "        [ 6.21755920e-03+6.21755920e-03j,\n",
       "          1.90237221e-03+1.90237221e-03j,\n",
       "          1.08947896e-04+1.08947896e-04j,\n",
       "          1.90237221e-03+1.90237221e-03j],\n",
       "        [ 1.45772658e-01+1.45772658e-01j,\n",
       "          4.46017229e-02+4.46017229e-02j,\n",
       "          2.55431817e-03+2.55431817e-03j,\n",
       "          4.46017229e-02+4.46017229e-02j]]])"
      ]
     },
     "execution_count": 136,
     "metadata": {},
     "output_type": "execute_result"
    }
   ],
   "source": [
    "abelian_utils.append_conjugate_symmetry(tmp6, fourier_coef_shape)"
   ]
  },
  {
   "cell_type": "code",
   "execution_count": 142,
   "metadata": {},
   "outputs": [
    {
     "data": {
      "text/plain": [
       "array([[[1.00000001e+00+0.00000000e+00j, 3.05967690e-01+2.85439774e-17j,\n",
       "         1.75226153e-02-0.00000000e+00j, 3.05967690e-01-2.85439774e-17j],\n",
       "        [2.06153670e-01-4.99970298e-15j, 6.30763614e-02-1.53536552e-15j,\n",
       "         3.61235140e-03-7.21111007e-17j, 6.30763614e-02-1.57142107e-15j],\n",
       "        [3.61235140e-03+0.00000000e+00j, 1.10526280e-03+3.15486066e-17j,\n",
       "         6.32978430e-05-0.00000000e+00j, 1.10526280e-03-3.15486066e-17j],\n",
       "        [2.06153670e-01+4.99970298e-15j, 6.30763614e-02+1.57142107e-15j,\n",
       "         3.61235140e-03+7.21111007e-17j, 6.30763614e-02+1.53536552e-15j]],\n",
       "\n",
       "       [[2.06153670e-01-5.04777705e-15j, 6.30763614e-02-1.50832386e-15j,\n",
       "         3.61235140e-03-8.11249883e-17j, 6.30763614e-02-1.56841644e-15j],\n",
       "        [2.06153670e-01-2.76425886e-15j, 6.30763614e-02-8.47305434e-16j,\n",
       "         3.61235140e-03-5.10786964e-17j, 6.30763614e-02-8.95379501e-16j],\n",
       "        [8.79295655e-03-1.37011091e-15j, 2.69036057e-03-3.96611054e-16j,\n",
       "         1.54075593e-04-2.10324044e-17j, 2.69036057e-03-4.56703638e-16j],\n",
       "        [8.79295655e-03+0.00000000e+00j, 2.69036057e-03+4.80740672e-17j,\n",
       "         1.54075593e-04+9.01388759e-18j, 2.69036057e-03-0.00000000e+00j]],\n",
       "\n",
       "       [[3.61235140e-03+0.00000000e+00j, 1.10526280e-03+1.95300898e-17j,\n",
       "         6.32978430e-05-0.00000000e+00j, 1.10526280e-03-1.95300898e-17j],\n",
       "        [8.79295655e-03-1.41818498e-15j, 2.69036057e-03-4.17643458e-16j,\n",
       "         1.54075593e-04-1.20185168e-17j, 2.69036057e-03-4.53699009e-16j],\n",
       "        [3.61235140e-03+0.00000000e+00j, 1.10526280e-03+1.65254606e-17j,\n",
       "         6.32978430e-05-0.00000000e+00j, 1.10526280e-03-1.65254606e-17j],\n",
       "        [8.79295655e-03+1.41818498e-15j, 2.69036057e-03+4.53699009e-16j,\n",
       "         1.54075593e-04+1.20185168e-17j, 2.69036057e-03+4.17643458e-16j]],\n",
       "\n",
       "       [[2.06153670e-01+5.04777705e-15j, 6.30763614e-02+1.56841644e-15j,\n",
       "         3.61235140e-03+8.11249883e-17j, 6.30763614e-02+1.50832386e-15j],\n",
       "        [8.79295655e-03+0.00000000e+00j, 2.69036057e-03+0.00000000e+00j,\n",
       "         1.54075593e-04-9.01388759e-18j, 2.69036057e-03-4.80740672e-17j],\n",
       "        [8.79295655e-03+1.37011091e-15j, 2.69036057e-03+4.56703638e-16j,\n",
       "         1.54075593e-04+2.10324044e-17j, 2.69036057e-03+3.96611054e-16j],\n",
       "        [2.06153670e-01+2.76425886e-15j, 6.30763614e-02+8.95379501e-16j,\n",
       "         3.61235140e-03+5.10786964e-17j, 6.30763614e-02+8.47305434e-16j]]])"
      ]
     },
     "execution_count": 142,
     "metadata": {},
     "output_type": "execute_result"
    }
   ],
   "source": [
    "tmp7 = abelian_utils.append_conjugate_symmetry(abelian_utils.unflatten_coefs(zero_coefs, fourier_coef_shape).reshape((fourier_coef_shape[0], fourier_coef_shape[1], fourier_coef_shape[2]//2+1)), fourier_coef_shape)\n",
    "tmp7"
   ]
  },
  {
   "cell_type": "code",
   "execution_count": 160,
   "metadata": {},
   "outputs": [
    {
     "data": {
      "text/plain": [
       "array([[[4.79930282e-02, 2.78932736e+00, 2.04071549e+00, 5.26835886e-01],\n",
       "        [7.22580393e-02, 4.19959592e+00, 3.07249001e+00, 7.93201212e-01],\n",
       "        [3.83887620e-02, 2.23113290e+00, 1.63233170e+00, 4.21406571e-01],\n",
       "        [7.19667608e-03, 4.18266699e-01, 3.06010454e-01, 7.90003748e-02]],\n",
       "\n",
       "       [[4.32453230e-02, 2.51339344e+00, 1.83883792e+00, 4.74718701e-01],\n",
       "        [3.86769413e-02, 2.24788171e+00, 1.64458539e+00, 4.24570014e-01],\n",
       "        [1.22060463e-02, 7.09408431e-01, 5.19014296e-01, 1.33989945e-01],\n",
       "        [1.35927653e-03, 7.90003748e-02, 5.77979089e-02, 1.49212434e-02]],\n",
       "\n",
       "       [[1.37502328e-02, 7.99155667e-01, 5.84674776e-01, 1.50941008e-01],\n",
       "        [7.30513061e-03, 4.24570014e-01, 3.10622058e-01, 8.01909173e-02],\n",
       "        [1.36948044e-03, 7.95934201e-02, 5.82317901e-02, 1.50332552e-02],\n",
       "        [9.05927822e-05, 5.26520070e-03, 3.85210312e-03, 9.94467956e-04]],\n",
       "\n",
       "       [[1.54273336e-03, 8.96627809e-02, 6.55986919e-02, 1.69351118e-02],\n",
       "        [4.86870839e-04, 2.82966548e-02, 2.07022749e-02, 5.34454772e-03],\n",
       "        [5.42183840e-05, 3.15114148e-03, 2.30542435e-03, 5.95173746e-04],\n",
       "        [2.13053803e-06, 1.23825652e-04, 9.05927822e-05, 2.33876446e-05]]])"
      ]
     },
     "execution_count": 160,
     "metadata": {},
     "output_type": "execute_result"
    }
   ],
   "source": [
    "tmp8 = fourier_utils3._normal_toroidal(XXX, YYY, ZZZ, center=np.array([0.1, 0.2, 0.3]), cov=cov)\n",
    "tmp8"
   ]
  },
  {
   "cell_type": "code",
   "execution_count": 158,
   "metadata": {},
   "outputs": [
    {
     "data": {
      "text/plain": [
       "array([[[4.32850526, 2.6098608 , 1.0774052 , 2.6098608 ],\n",
       "        [2.61742185, 1.57816758, 0.65150063, 1.57816758],\n",
       "        [1.09306671, 0.65906168, 0.27207447, 0.65906168],\n",
       "        [2.61742185, 1.57816758, 0.65150063, 1.57816758]],\n",
       "\n",
       "       [[2.61742185, 1.57816758, 0.65150063, 1.57816758],\n",
       "        [1.13205669, 0.68257059, 0.28177943, 0.68257059],\n",
       "        [1.13205669, 0.68257059, 0.28177943, 0.68257059],\n",
       "        [2.61742185, 1.57816758, 0.65150063, 1.57816758]],\n",
       "\n",
       "       [[1.09306671, 0.65906168, 0.27207447, 0.65906168],\n",
       "        [1.13205669, 0.68257059, 0.28177943, 0.68257059],\n",
       "        [1.09306671, 0.65906168, 0.27207447, 0.65906168],\n",
       "        [1.13205669, 0.68257059, 0.28177943, 0.68257059]],\n",
       "\n",
       "       [[2.61742185, 1.57816758, 0.65150063, 1.57816758],\n",
       "        [2.61742185, 1.57816758, 0.65150063, 1.57816758],\n",
       "        [1.13205669, 0.68257059, 0.28177943, 0.68257059],\n",
       "        [1.13205669, 0.68257059, 0.28177943, 0.68257059]]])"
      ]
     },
     "execution_count": 158,
     "metadata": {},
     "output_type": "execute_result"
    }
   ],
   "source": [
    "baseline_bump"
   ]
  },
  {
   "cell_type": "code",
   "execution_count": 161,
   "metadata": {},
   "outputs": [
    {
     "data": {
      "text/plain": [
       "array([[[ 5.03129902e-01+0.j        , -1.85498991e-01-0.21061131j,\n",
       "         -1.14261578e-01+0.j        , -1.85498991e-01+0.21061131j],\n",
       "        [ 9.59236813e-02-0.19369973j, -1.16449248e-01+0.03126129j,\n",
       "         -2.17844162e-02+0.04398951j,  4.57170332e-02+0.11156903j],\n",
       "        [ 5.48557449e-02+0.j        , -2.02247675e-02-0.02296274j,\n",
       "         -1.24578244e-02+0.j        , -2.02247675e-02+0.02296274j],\n",
       "        [ 9.59236813e-02+0.19369973j,  4.57170332e-02-0.11156903j,\n",
       "         -2.17844162e-02-0.04398951j, -1.16449248e-01-0.03126129j]],\n",
       "\n",
       "       [[ 2.52195484e-01-0.16435455j, -1.61781152e-01-0.04497371j,\n",
       "         -5.72739840e-02+0.03732517j, -2.41827809e-02+0.16616549j],\n",
       "        [-6.96988556e-02-0.15378951j, -3.86793592e-02+0.08587676j,\n",
       "          1.58287178e-02+0.03492583j,  9.00739088e-02+0.02752456j],\n",
       "        [-1.40229460e-03-0.02517572j, -1.00216020e-02+0.00986904j,\n",
       "          3.18463269e-04+0.00571745j,  1.10556262e-02+0.00869503j],\n",
       "        [ 5.99275459e-02+0.04979128j, -1.25194838e-03-0.04344336j,\n",
       "         -1.36096383e-02-0.01130768j, -4.29374319e-02+0.00672826j]],\n",
       "\n",
       "       [[ 1.59738573e-01+0.j        , -5.88940230e-02-0.06686693j,\n",
       "         -3.62768766e-02+0.j        , -5.88940230e-02+0.06686693j],\n",
       "        [-1.85516322e-02-0.06066142j, -1.85532058e-02+0.03013102j,\n",
       "          4.21310434e-03+0.0137763j ,  3.22328103e-02+0.01459951j],\n",
       "        [-3.29413741e-03+0.j        ,  1.21451570e-03+0.00137893j,\n",
       "          7.48103695e-04+0.j        ,  1.21451570e-03-0.00137893j],\n",
       "        [-1.85516322e-02+0.06066142j,  3.22328103e-02-0.01459951j,\n",
       "          4.21310434e-03-0.0137763j , -1.85532058e-02-0.03013102j]],\n",
       "\n",
       "       [[ 2.52195484e-01+0.16435455j, -2.41827809e-02-0.16616549j,\n",
       "         -5.72739840e-02-0.03732517j, -1.61781152e-01+0.04497371j],\n",
       "        [ 5.99275459e-02-0.04979128j, -4.29374319e-02-0.00672826j,\n",
       "         -1.36096383e-02+0.01130768j, -1.25194838e-03+0.04344336j],\n",
       "        [-1.40229460e-03+0.02517572j,  1.10556262e-02-0.00869503j,\n",
       "          3.18463269e-04-0.00571745j, -1.00216020e-02-0.00986904j],\n",
       "        [-6.96988556e-02+0.15378951j,  9.00739088e-02-0.02752456j,\n",
       "          1.58287178e-02-0.03492583j, -3.86793592e-02-0.08587676j]]])"
      ]
     },
     "execution_count": 161,
     "metadata": {},
     "output_type": "execute_result"
    }
   ],
   "source": [
    "tmp9 = np.fft.fftn(tmp8, s=fourier_coef_shape, norm='forward')  # * (1.0 * sqrt(3)/2 * 1.0)\n",
    "tmp9"
   ]
  },
  {
   "cell_type": "code",
   "execution_count": 152,
   "metadata": {},
   "outputs": [
    {
     "data": {
      "text/plain": [
       "False"
      ]
     },
     "execution_count": 152,
     "metadata": {},
     "output_type": "execute_result"
    }
   ],
   "source": [
    "np.allclose(tmp9, abelian_utils.unflatten_coefs(zero_coefs, fourier_coef_shape).reshape(fourier_coef_shape[0], fourier_coef_shape[1], fourier_coef_shape[2]//2+1), rtol=1e-5, atol=1e-5)"
   ]
  },
  {
   "cell_type": "code",
   "execution_count": 153,
   "metadata": {},
   "outputs": [
    {
     "data": {
      "text/plain": [
       "array([[[ 2.74893609e-01+0.00000000e+00j,\n",
       "          4.55257683e-01-3.04107611e-01j,\n",
       "          4.73320784e+00+0.00000000e+00j],\n",
       "        [ 7.71732590e-01-4.01984495e-01j,\n",
       "          8.33379308e-01-1.51948343e+00j,\n",
       "          1.32879435e+01-6.92150016e+00j],\n",
       "        [ 2.90524507e+01+0.00000000e+00j,\n",
       "          4.81144375e+01-3.21399665e+01j,\n",
       "          5.00234573e+02+0.00000000e+00j],\n",
       "        [ 7.71732590e-01+4.01984495e-01j,\n",
       "          1.72278918e+00-1.88011735e-01j,\n",
       "          1.32879435e+01+6.92150016e+00j]],\n",
       "\n",
       "       [[ 7.71732590e-01-4.01984495e-01j,\n",
       "          8.33379308e-01-1.51948343e+00j,\n",
       "          1.32879435e+01-6.92150016e+00j],\n",
       "        [ 2.67303328e-01-5.47524977e-01j,\n",
       "         -1.63025322e-01-1.20247950e+00j,\n",
       "          4.60251589e+00-9.42746365e+00j],\n",
       "        [ 4.83577415e+00-4.60913598e+00j,\n",
       "          2.90967114e+00-1.29829875e+01j,\n",
       "          8.32639367e+01-7.93616068e+01j],\n",
       "        [ 1.10298768e+01+0.00000000e+00j,\n",
       "          1.82668348e+01-1.22020642e+01j,\n",
       "          1.89916016e+02-1.11106606e-11j]],\n",
       "\n",
       "       [[ 2.90524507e+01+0.00000000e+00j,\n",
       "          4.81144375e+01-3.21399665e+01j,\n",
       "          5.00234573e+02+0.00000000e+00j],\n",
       "        [ 4.83577415e+00-4.60913598e+00j,\n",
       "          2.90967114e+00-1.29829875e+01j,\n",
       "          8.32639367e+01-7.93616068e+01j],\n",
       "        [ 5.70659505e+00+0.00000000e+00j,\n",
       "          9.45082443e+00-6.31305686e+00j,\n",
       "          9.82580150e+01+0.00000000e+00j],\n",
       "        [ 4.83577415e+00+4.60913598e+00j,\n",
       "          1.31076043e+01+2.28360653e+00j,\n",
       "          8.32639367e+01+7.93616068e+01j]],\n",
       "\n",
       "       [[ 7.71732590e-01+4.01984495e-01j,\n",
       "          1.72278918e+00-1.88011735e-01j,\n",
       "          1.32879435e+01+6.92150016e+00j],\n",
       "        [ 1.10298768e+01+0.00000000e+00j,\n",
       "          1.82668348e+01-1.22020642e+01j,\n",
       "          1.89916016e+02+1.11106606e-11j],\n",
       "        [ 4.83577415e+00+4.60913598e+00j,\n",
       "          1.31076043e+01+2.28360653e+00j,\n",
       "          8.32639367e+01+7.93616068e+01j],\n",
       "        [ 2.67303328e-01+5.47524977e-01j,\n",
       "          1.04839980e+00+6.11058134e-01j,\n",
       "          4.60251589e+00+9.42746365e+00j]]])"
      ]
     },
     "execution_count": 153,
     "metadata": {},
     "output_type": "execute_result"
    }
   ],
   "source": [
    "tmp9 / abelian_utils.unflatten_coefs(zero_coefs, fourier_coef_shape).reshape(fourier_coef_shape[0], fourier_coef_shape[1], fourier_coef_shape[2]//2+1)"
   ]
  },
  {
   "cell_type": "code",
   "execution_count": null,
   "metadata": {},
   "outputs": [],
   "source": []
  },
  {
   "cell_type": "code",
   "execution_count": 16,
   "metadata": {},
   "outputs": [],
   "source": [
    "zero_bump_reconstructed = abelian_utils.reconstruct_primal(zero_coefs, fourier_coef_shape)"
   ]
  },
  {
   "cell_type": "code",
   "execution_count": 17,
   "metadata": {},
   "outputs": [],
   "source": [
    "zero_bump_reconstructed_alt = abelian_utils.reconstruct_primal_alt(zero_coefs, fourier_coef_shape)"
   ]
  },
  {
   "cell_type": "code",
   "execution_count": 19,
   "metadata": {},
   "outputs": [
    {
     "data": {
      "text/plain": [
       "array([[[1., 1., 1., 1.],\n",
       "        [1., 1., 1., 1.],\n",
       "        [1., 1., 1., 1.],\n",
       "        [1., 1., 1., 1.]],\n",
       "\n",
       "       [[1., 1., 1., 1.],\n",
       "        [1., 1., 1., 1.],\n",
       "        [1., 1., 1., 1.],\n",
       "        [1., 1., 1., 1.]],\n",
       "\n",
       "       [[1., 1., 1., 1.],\n",
       "        [1., 1., 1., 1.],\n",
       "        [1., 1., 1., 1.],\n",
       "        [1., 1., 1., 1.]],\n",
       "\n",
       "       [[1., 1., 1., 1.],\n",
       "        [1., 1., 1., 1.],\n",
       "        [1., 1., 1., 1.],\n",
       "        [1., 1., 1., 1.]]])"
      ]
     },
     "execution_count": 19,
     "metadata": {},
     "output_type": "execute_result"
    }
   ],
   "source": [
    "baseline_bump / zero_bump_reconstructed"
   ]
  },
  {
   "cell_type": "code",
   "execution_count": 18,
   "metadata": {},
   "outputs": [
    {
     "data": {
      "text/plain": [
       "array([[[1.+0.j, 1.+0.j, 1.+0.j, 1.+0.j],\n",
       "        [1.+0.j, 1.+0.j, 1.+0.j, 1.+0.j],\n",
       "        [1.+0.j, 1.+0.j, 1.+0.j, 1.+0.j],\n",
       "        [1.+0.j, 1.+0.j, 1.+0.j, 1.+0.j]],\n",
       "\n",
       "       [[1.+0.j, 1.+0.j, 1.+0.j, 1.+0.j],\n",
       "        [1.+0.j, 1.+0.j, 1.+0.j, 1.+0.j],\n",
       "        [1.+0.j, 1.+0.j, 1.+0.j, 1.+0.j],\n",
       "        [1.+0.j, 1.+0.j, 1.+0.j, 1.+0.j]],\n",
       "\n",
       "       [[1.+0.j, 1.+0.j, 1.+0.j, 1.+0.j],\n",
       "        [1.+0.j, 1.+0.j, 1.+0.j, 1.+0.j],\n",
       "        [1.+0.j, 1.+0.j, 1.+0.j, 1.+0.j],\n",
       "        [1.+0.j, 1.+0.j, 1.+0.j, 1.+0.j]],\n",
       "\n",
       "       [[1.+0.j, 1.+0.j, 1.+0.j, 1.+0.j],\n",
       "        [1.+0.j, 1.+0.j, 1.+0.j, 1.+0.j],\n",
       "        [1.+0.j, 1.+0.j, 1.+0.j, 1.+0.j],\n",
       "        [1.+0.j, 1.+0.j, 1.+0.j, 1.+0.j]]])"
      ]
     },
     "execution_count": 18,
     "metadata": {},
     "output_type": "execute_result"
    }
   ],
   "source": [
    "zero_bump_reconstructed / zero_bump_reconstructed_alt"
   ]
  },
  {
   "cell_type": "code",
   "execution_count": 187,
   "metadata": {},
   "outputs": [],
   "source": [
    "zero_bump_reconstructed2 = abelian_utils.reconstruct_primal(zero_coefs, fourier_coef_shape)"
   ]
  },
  {
   "cell_type": "code",
   "execution_count": 188,
   "metadata": {},
   "outputs": [
    {
     "name": "stderr",
     "output_type": "stream",
     "text": [
      "/tmp/ipykernel_339832/2927257151.py:1: RuntimeWarning: divide by zero encountered in true_divide\n",
      "  zero_bump_reconstructed/zero_bump_reconstructed2\n",
      "/tmp/ipykernel_339832/2927257151.py:1: RuntimeWarning: invalid value encountered in true_divide\n",
      "  zero_bump_reconstructed/zero_bump_reconstructed2\n"
     ]
    },
    {
     "data": {
      "text/plain": [
       "array([[[ 1.15470054,  1.15470054,         nan,  1.15470054],\n",
       "        [ 1.15470054,  1.15470054, -0.        ,  1.15470054],\n",
       "        [ 1.15470054,  1.15470054,  0.5       ,  1.15470054],\n",
       "        [ 1.15470054,  1.15470054, -0.        ,  1.15470054]],\n",
       "\n",
       "       [[ 1.15470054,  1.15470054,  0.        ,  1.15470054],\n",
       "        [ 1.15470054,  1.15470054,  1.        ,  1.15470054],\n",
       "        [ 1.15470054,  1.15470054,         nan,  1.15470054],\n",
       "        [ 1.15470054,  1.15470054,         nan,  1.15470054]],\n",
       "\n",
       "       [[ 1.15470054,  1.15470054,  0.5       ,  1.15470054],\n",
       "        [ 1.15470054,  1.15470054,  1.        ,  1.15470054],\n",
       "        [ 1.15470054,  1.15470054,  0.66666667,  1.15470054],\n",
       "        [ 1.15470054,  1.15470054,  1.        ,  1.15470054]],\n",
       "\n",
       "       [[ 1.15470054,  1.15470054,         inf,  1.15470054],\n",
       "        [ 1.15470054,  1.15470054,         nan,  1.15470054],\n",
       "        [ 1.15470054,  1.15470054,         inf,  1.15470054],\n",
       "        [ 1.15470054,  1.15470054,  3.        ,  1.15470054]]])"
      ]
     },
     "execution_count": 188,
     "metadata": {},
     "output_type": "execute_result"
    }
   ],
   "source": [
    "zero_bump_reconstructed/zero_bump_reconstructed2"
   ]
  },
  {
   "cell_type": "code",
   "execution_count": 138,
   "metadata": {},
   "outputs": [
    {
     "data": {
      "text/plain": [
       "array([[[ 4.33012702e+00+0.j,  4.33012702e+00+0.j, -3.13879645e+06+0.j,\n",
       "          4.33012702e+00+0.j],\n",
       "        [ 4.33012702e+00+0.j,  4.33012702e+00+0.j, -5.30115813e+06+0.j,\n",
       "          4.33012702e+00+0.j],\n",
       "        [ 4.33012702e+00+0.j,  4.33012702e+00+0.j, -1.29584381e+07+0.j,\n",
       "          4.33012702e+00+0.j],\n",
       "        [ 4.33012702e+00+0.j,  4.33012702e+00+0.j, -5.30115813e+06+0.j,\n",
       "          4.33012702e+00+0.j]],\n",
       "\n",
       "       [[ 4.33012702e+00+0.j,  4.33012702e+00+0.j, -2.74225895e+06+0.j,\n",
       "          4.33012702e+00+0.j],\n",
       "        [ 4.33012702e+00+0.j,  4.33012702e+00+0.j,  2.17292723e+06+0.j,\n",
       "          4.33012702e+00+0.j],\n",
       "        [ 4.33012702e+00+0.j,  4.33012702e+00+0.j,  1.83082373e+06+0.j,\n",
       "          4.33012702e+00+0.j],\n",
       "        [ 4.33012702e+00+0.j,  4.33012702e+00+0.j, -2.81517793e+06+0.j,\n",
       "          4.33012702e+00+0.j]],\n",
       "\n",
       "       [[ 4.33012702e+00+0.j,  4.33012702e+00+0.j,  3.96686880e+06+0.j,\n",
       "          4.33012702e+00+0.j],\n",
       "        [ 4.33012702e+00+0.j,  4.33012702e+00+0.j,  1.22567776e+07+0.j,\n",
       "          4.33012702e+00+0.j],\n",
       "        [ 4.33012702e+00+0.j,  4.33012702e+00+0.j,  2.14210915e+07+0.j,\n",
       "          4.33012702e+00+0.j],\n",
       "        [ 4.33012702e+00+0.j,  4.33012702e+00+0.j,  1.22567776e+07+0.j,\n",
       "          4.33012702e+00+0.j]],\n",
       "\n",
       "       [[ 4.33012702e+00+0.j,  4.33012702e+00+0.j, -1.78581362e+06+0.j,\n",
       "          4.33012702e+00+0.j],\n",
       "        [ 4.33012702e+00+0.j,  4.33012702e+00+0.j,  5.41580734e+04+0.j,\n",
       "          4.33012702e+00+0.j],\n",
       "        [ 4.33012702e+00+0.j,  4.33012702e+00+0.j,  4.04221556e+06+0.j,\n",
       "          4.33012702e+00+0.j],\n",
       "        [ 4.33012702e+00+0.j,  4.33012702e+00+0.j,  8.80710274e+06+0.j,\n",
       "          4.33012702e+00+0.j]]])"
      ]
     },
     "execution_count": 138,
     "metadata": {},
     "output_type": "execute_result"
    }
   ],
   "source": [
    "zero_bump_reconstructed_alt/baseline_bump"
   ]
  },
  {
   "cell_type": "code",
   "execution_count": 73,
   "metadata": {},
   "outputs": [
    {
     "data": {
      "text/plain": [
       "False"
      ]
     },
     "execution_count": 73,
     "metadata": {},
     "output_type": "execute_result"
    }
   ],
   "source": [
    "np.allclose(baseline_bump, zero_bump_reconstructed_alt/55.42562584)"
   ]
  },
  {
   "cell_type": "code",
   "execution_count": null,
   "metadata": {},
   "outputs": [],
   "source": []
  },
  {
   "cell_type": "code",
   "execution_count": 14,
   "metadata": {},
   "outputs": [
    {
     "data": {
      "text/plain": [
       "(4, 4)"
      ]
     },
     "execution_count": 14,
     "metadata": {},
     "output_type": "execute_result"
    }
   ],
   "source": [
    "XXX, YYY, ZZZ = abelian_utils.get_3d_coordinates_unwrapped_vectorized(fourier_coef_shape, generators)\n",
    "XXX[:,:,0].shape"
   ]
  },
  {
   "cell_type": "code",
   "execution_count": 109,
   "metadata": {},
   "outputs": [
    {
     "data": {
      "text/plain": [
       "<matplotlib.colorbar.Colorbar at 0x7ff7167082b0>"
      ]
     },
     "execution_count": 109,
     "metadata": {},
     "output_type": "execute_result"
    },
    {
     "data": {
      "image/png": "[encoded data removed]",
      "text/plain": [
       "<Figure size 432x288 with 2 Axes>"
      ]
     },
     "metadata": {
      "needs_background": "light"
     },
     "output_type": "display_data"
    }
   ],
   "source": [
    "plt.scatter(XXX[:,:,0], YYY[:,:,0], c=baseline_bump[:,:,0])\n",
    "plt.colorbar()"
   ]
  },
  {
   "cell_type": "code",
   "execution_count": 129,
   "metadata": {},
   "outputs": [
    {
     "data": {
      "text/plain": [
       "<matplotlib.colorbar.Colorbar at 0x7fd903d1b1f0>"
      ]
     },
     "execution_count": 129,
     "metadata": {},
     "output_type": "execute_result"
    },
    {
     "data": {
      "image/png": "[encoded data removed]",
      "text/plain": [
       "<Figure size 432x288 with 2 Axes>"
      ]
     },
     "metadata": {
      "needs_background": "light"
     },
     "output_type": "display_data"
    }
   ],
   "source": [
    "plt.scatter(XXX[:,:,0], YYY[:,:,0], c=baseline_bump_reconstructed[:,:,0])\n",
    "plt.colorbar()"
   ]
  },
  {
   "cell_type": "code",
   "execution_count": 41,
   "metadata": {},
   "outputs": [
    {
     "data": {
      "text/plain": [
       "<matplotlib.colorbar.Colorbar at 0x7fd903fdf8e0>"
      ]
     },
     "execution_count": 41,
     "metadata": {},
     "output_type": "execute_result"
    },
    {
     "data": {
      "image/png": "[encoded data removed]",
      "text/plain": [
       "<Figure size 432x288 with 2 Axes>"
      ]
     },
     "metadata": {
      "needs_background": "light"
     },
     "output_type": "display_data"
    }
   ],
   "source": [
    "plt.scatter(XXX[:,:,0], YYY[:,:,0], c=zero_bump_reconstructed[:,:,0])\n",
    "plt.colorbar()"
   ]
  },
  {
   "cell_type": "code",
   "execution_count": 68,
   "metadata": {},
   "outputs": [
    {
     "data": {
      "text/plain": [
       "<matplotlib.colorbar.Colorbar at 0x7fd903d8a6e0>"
      ]
     },
     "execution_count": 68,
     "metadata": {},
     "output_type": "execute_result"
    },
    {
     "data": {
      "image/png": "[encoded data removed]",
      "text/plain": [
       "<Figure size 432x288 with 2 Axes>"
      ]
     },
     "metadata": {
      "needs_background": "light"
     },
     "output_type": "display_data"
    }
   ],
   "source": [
    "plt.scatter(XXX[:,:,0], YYY[:,:,0], c=zero_bump_reconstructed[:,:,0])\n",
    "plt.colorbar()"
   ]
  },
  {
   "cell_type": "code",
   "execution_count": null,
   "metadata": {},
   "outputs": [],
   "source": []
  }
 ],
 "metadata": {
  "interpreter": {
   "hash": "949777d72b0d2535278d3dc13498b2535136f6dfe0678499012e853ee9abcab1"
  },
  "kernelspec": {
   "display_name": "Python 3.10.0 64-bit",
   "language": "python",
   "name": "python3"
  },
  "language_info": {
   "codemirror_mode": {
    "name": "ipython",
    "version": 3
   },
   "file_extension": ".py",
   "mimetype": "text/x-python",
   "name": "python",
   "nbconvert_exporter": "python",
   "pygments_lexer": "ipython3",
   "version": "3.10.0"
  },
  "orig_nbformat": 4
 },
 "nbformat": 4,
 "nbformat_minor": 2
}
